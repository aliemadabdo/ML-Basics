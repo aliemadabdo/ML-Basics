{
  "nbformat": 4,
  "nbformat_minor": 0,
  "metadata": {
    "colab": {
      "provenance": [],
      "include_colab_link": true
    },
    "kernelspec": {
      "name": "python3",
      "display_name": "Python 3"
    },
    "language_info": {
      "name": "python"
    },
    "accelerator": "GPU"
  },
  "cells": [
    {
      "cell_type": "markdown",
      "metadata": {
        "id": "view-in-github",
        "colab_type": "text"
      },
      "source": [
        "<a href=\"https://colab.research.google.com/github/aliemadabdo/ML-Basics/blob/main/1_VGG16_covid19_google_drive.ipynb\" target=\"_parent\"><img src=\"https://colab.research.google.com/assets/colab-badge.svg\" alt=\"Open In Colab\"/></a>"
      ]
    },
    {
      "cell_type": "code",
      "execution_count": null,
      "metadata": {
        "colab": {
          "base_uri": "https://localhost:8080/"
        },
        "id": "WWIvMtKutXii",
        "outputId": "9849f7b3-465d-4870-ea4c-3f5cc06a4410"
      },
      "outputs": [
        {
          "output_type": "stream",
          "name": "stdout",
          "text": [
            "Mounted at /content/drive\n"
          ]
        }
      ],
      "source": [
        "from google.colab import drive\n",
        "drive.mount('/content/drive')"
      ]
    },
    {
      "cell_type": "code",
      "source": [
        "import tensorflow as tf\n",
        "from tensorflow import keras\n",
        "from keras.models import * \n",
        "from keras.layers import * \n",
        "from keras.callbacks import EarlyStopping\n",
        "import numpy as np"
      ],
      "metadata": {
        "id": "-ltR4vv6xqCH"
      },
      "execution_count": null,
      "outputs": []
    },
    {
      "cell_type": "code",
      "source": [
        "from keras.preprocessing.image import ImageDataGenerator\n",
        "\n",
        "train_datagen = ImageDataGenerator(rescale=1./255,)\n",
        "test_datagen = ImageDataGenerator(rescale=1./255)"
      ],
      "metadata": {
        "id": "DA7kt1jsxr1P"
      },
      "execution_count": null,
      "outputs": []
    },
    {
      "cell_type": "code",
      "source": [
        "train_set = train_datagen.flow_from_directory('/content/drive/MyDrive/CovidDataset/Train/',\n",
        "      target_size=(224, 224), batch_size=32, class_mode='categorical', shuffle=False)"
      ],
      "metadata": {
        "colab": {
          "base_uri": "https://localhost:8080/"
        },
        "id": "kT2YIcNwykhx",
        "outputId": "1d6aa8c2-7f10-4835-963e-7cf717594c2a"
      },
      "execution_count": null,
      "outputs": [
        {
          "output_type": "stream",
          "name": "stdout",
          "text": [
            "Found 224 images belonging to 2 classes.\n"
          ]
        }
      ]
    },
    {
      "cell_type": "code",
      "source": [
        "test_set = test_datagen.flow_from_directory('/content/drive/MyDrive/CovidDataset/Val/',\n",
        "     target_size=(224, 224), batch_size=32,class_mode='categorical', shuffle=False)"
      ],
      "metadata": {
        "colab": {
          "base_uri": "https://localhost:8080/"
        },
        "id": "hry8seotzaCO",
        "outputId": "a94fecaa-a414-424e-91ba-e85c64538b1b"
      },
      "execution_count": null,
      "outputs": [
        {
          "output_type": "stream",
          "name": "stdout",
          "text": [
            "Found 60 images belonging to 2 classes.\n"
          ]
        }
      ]
    },
    {
      "cell_type": "code",
      "source": [
        " model=keras.Sequential()\n",
        " model.add(Conv2D(input_shape=(224,224,3),filters=64,kernel_size=(3,3),padding=\"same\", activation=\"relu\"))\n",
        " model.add(Conv2D(filters=64,kernel_size=(3,3),padding=\"same\", activation=\"relu\"))\n",
        " model.add(MaxPool2D(pool_size=(2,2),strides=(2,2)))\n",
        " model.add(Conv2D(filters=128, kernel_size=(3,3), padding=\"same\", activation=\"relu\"))\n",
        " model.add(Conv2D(filters=128, kernel_size=(3,3), padding=\"same\", activation=\"relu\"))\n",
        " model.add(MaxPool2D(pool_size=(2,2),strides=(2,2)))\n",
        " model.add(Conv2D(filters=256, kernel_size=(3,3), padding=\"same\", activation=\"relu\"))\n",
        " model.add(Conv2D(filters=256, kernel_size=(3,3), padding=\"same\", activation=\"relu\"))\n",
        " model.add(Conv2D(filters=256, kernel_size=(3,3), padding=\"same\", activation=\"relu\"))\n",
        " model.add(MaxPool2D(pool_size=(2,2),strides=(2,2)))\n",
        " model.add(Conv2D(filters=512, kernel_size=(3,3), padding=\"same\", activation=\"relu\"))\n",
        " model.add(Conv2D(filters=512, kernel_size=(3,3), padding=\"same\", activation=\"relu\"))\n",
        " model.add(Conv2D(filters=512, kernel_size=(3,3), padding=\"same\", activation=\"relu\"))\n",
        " model.add(MaxPool2D(pool_size=(2,2),strides=(2,2)))\n",
        " model.add(Conv2D(filters=512, kernel_size=(3,3), padding=\"same\", activation=\"relu\"))\n",
        " model.add(Conv2D(filters=512, kernel_size=(3,3), padding=\"same\", activation=\"relu\"))\n",
        " model.add(Conv2D(filters=512, kernel_size=(3,3), padding=\"same\", activation=\"relu\"))\n",
        " model.add(MaxPool2D(pool_size=(2,2),strides=(2,2),name='vgg16'))\n",
        " model.add(Flatten(name='flatten'))\n",
        " model.add(Dense(4096, activation='relu', name='fc1'))\n",
        " model.add(Dense(4096, activation='relu', name='fc2'))\n",
        " model.add(Dense(2, activation='softmax', name='output'))"
      ],
      "metadata": {
        "id": "gZ5vQ-cQz1oO"
      },
      "execution_count": null,
      "outputs": []
    },
    {
      "cell_type": "code",
      "source": [
        "model.summary()"
      ],
      "metadata": {
        "colab": {
          "base_uri": "https://localhost:8080/"
        },
        "id": "rshsqhe_3d6T",
        "outputId": "7250de8a-4322-4528-a969-dd837c3dc094"
      },
      "execution_count": null,
      "outputs": [
        {
          "output_type": "stream",
          "name": "stdout",
          "text": [
            "Model: \"sequential\"\n",
            "_________________________________________________________________\n",
            " Layer (type)                Output Shape              Param #   \n",
            "=================================================================\n",
            " conv2d (Conv2D)             (None, 224, 224, 64)      1792      \n",
            "                                                                 \n",
            " conv2d_1 (Conv2D)           (None, 224, 224, 64)      36928     \n",
            "                                                                 \n",
            " max_pooling2d (MaxPooling2D  (None, 112, 112, 64)     0         \n",
            " )                                                               \n",
            "                                                                 \n",
            " conv2d_2 (Conv2D)           (None, 112, 112, 128)     73856     \n",
            "                                                                 \n",
            " conv2d_3 (Conv2D)           (None, 112, 112, 128)     147584    \n",
            "                                                                 \n",
            " max_pooling2d_1 (MaxPooling  (None, 56, 56, 128)      0         \n",
            " 2D)                                                             \n",
            "                                                                 \n",
            " conv2d_4 (Conv2D)           (None, 56, 56, 256)       295168    \n",
            "                                                                 \n",
            " conv2d_5 (Conv2D)           (None, 56, 56, 256)       590080    \n",
            "                                                                 \n",
            " conv2d_6 (Conv2D)           (None, 56, 56, 256)       590080    \n",
            "                                                                 \n",
            " max_pooling2d_2 (MaxPooling  (None, 28, 28, 256)      0         \n",
            " 2D)                                                             \n",
            "                                                                 \n",
            " conv2d_7 (Conv2D)           (None, 28, 28, 512)       1180160   \n",
            "                                                                 \n",
            " conv2d_8 (Conv2D)           (None, 28, 28, 512)       2359808   \n",
            "                                                                 \n",
            " conv2d_9 (Conv2D)           (None, 28, 28, 512)       2359808   \n",
            "                                                                 \n",
            " max_pooling2d_3 (MaxPooling  (None, 14, 14, 512)      0         \n",
            " 2D)                                                             \n",
            "                                                                 \n",
            " conv2d_10 (Conv2D)          (None, 14, 14, 512)       2359808   \n",
            "                                                                 \n",
            " conv2d_11 (Conv2D)          (None, 14, 14, 512)       2359808   \n",
            "                                                                 \n",
            " conv2d_12 (Conv2D)          (None, 14, 14, 512)       2359808   \n",
            "                                                                 \n",
            " vgg16 (MaxPooling2D)        (None, 7, 7, 512)         0         \n",
            "                                                                 \n",
            " flatten (Flatten)           (None, 25088)             0         \n",
            "                                                                 \n",
            " fc1 (Dense)                 (None, 4096)              102764544 \n",
            "                                                                 \n",
            " fc2 (Dense)                 (None, 4096)              16781312  \n",
            "                                                                 \n",
            " output (Dense)              (None, 2)                 8194      \n",
            "                                                                 \n",
            "=================================================================\n",
            "Total params: 134,268,738\n",
            "Trainable params: 134,268,738\n",
            "Non-trainable params: 0\n",
            "_________________________________________________________________\n"
          ]
        }
      ]
    },
    {
      "cell_type": "code",
      "source": [
        "model.compile(loss=keras.losses.categorical_crossentropy, optimizer=\"sgd\", metrics=['accuracy'])\n",
        "\n",
        "results=model.fit( \n",
        "    train_set,  \n",
        "    epochs=10,\n",
        "    validation_data=test_set,steps_per_epoch=len(train_set),validation_steps=len(test_set),\n",
        "    callbacks=keras.callbacks.EarlyStopping(patience=3,restore_best_weights=True)      \n",
        "  )\n"
      ],
      "metadata": {
        "colab": {
          "base_uri": "https://localhost:8080/"
        },
        "id": "fn1l7_xR20TR",
        "outputId": "b9c79d46-b149-4ff9-a0cd-9efd22293c3e"
      },
      "execution_count": null,
      "outputs": [
        {
          "output_type": "stream",
          "name": "stdout",
          "text": [
            "Epoch 1/10\n",
            "7/7 [==============================] - 157s 23s/step - loss: 0.6980 - accuracy: 0.3571 - val_loss: 0.6927 - val_accuracy: 0.5000\n",
            "Epoch 2/10\n",
            "7/7 [==============================] - 9s 1s/step - loss: 0.6976 - accuracy: 0.5000 - val_loss: 0.6924 - val_accuracy: 0.5000\n",
            "Epoch 3/10\n",
            "7/7 [==============================] - 9s 1s/step - loss: 0.6970 - accuracy: 0.2143 - val_loss: 0.6923 - val_accuracy: 0.5000\n",
            "Epoch 4/10\n",
            "7/7 [==============================] - 9s 1s/step - loss: 0.6966 - accuracy: 0.3571 - val_loss: 0.6921 - val_accuracy: 0.5000\n",
            "Epoch 5/10\n",
            "7/7 [==============================] - 9s 1s/step - loss: 0.6963 - accuracy: 0.2143 - val_loss: 0.6919 - val_accuracy: 0.5000\n",
            "Epoch 6/10\n",
            "7/7 [==============================] - 9s 1s/step - loss: 0.6963 - accuracy: 0.2143 - val_loss: 0.6917 - val_accuracy: 0.5000\n",
            "Epoch 7/10\n",
            "7/7 [==============================] - 9s 1s/step - loss: 0.6960 - accuracy: 0.2545 - val_loss: 0.6915 - val_accuracy: 0.5000\n",
            "Epoch 8/10\n",
            "7/7 [==============================] - 9s 1s/step - loss: 0.6959 - accuracy: 0.3616 - val_loss: 0.6912 - val_accuracy: 0.6000\n",
            "Epoch 9/10\n",
            "7/7 [==============================] - 9s 1s/step - loss: 0.6956 - accuracy: 0.4107 - val_loss: 0.6910 - val_accuracy: 0.8500\n",
            "Epoch 10/10\n",
            "7/7 [==============================] - 9s 1s/step - loss: 0.6954 - accuracy: 0.5580 - val_loss: 0.6909 - val_accuracy: 0.9667\n"
          ]
        }
      ]
    },
    {
      "cell_type": "code",
      "source": [
        "model.evaluate(test_set)"
      ],
      "metadata": {
        "colab": {
          "base_uri": "https://localhost:8080/"
        },
        "id": "FqCzyCER9SlD",
        "outputId": "0c5e9e4d-ec32-410f-c3c5-4eebdf12d98e"
      },
      "execution_count": null,
      "outputs": [
        {
          "output_type": "stream",
          "name": "stdout",
          "text": [
            "2/2 [==============================] - 2s 522ms/step - loss: 0.6909 - accuracy: 0.9667\n"
          ]
        },
        {
          "output_type": "execute_result",
          "data": {
            "text/plain": [
              "[0.6909059882164001, 0.9666666388511658]"
            ]
          },
          "metadata": {},
          "execution_count": 9
        }
      ]
    },
    {
      "cell_type": "code",
      "source": [
        "model.save('/content/drive/MyDrive/SavedModels/vgg16_Covid19.h5')"
      ],
      "metadata": {
        "id": "v5P2MLm2AqNG"
      },
      "execution_count": null,
      "outputs": []
    },
    {
      "cell_type": "code",
      "source": [
        "y_pred= model.predict(test_set)\n",
        "y_pred"
      ],
      "metadata": {
        "colab": {
          "base_uri": "https://localhost:8080/"
        },
        "id": "OQd_FRQD944y",
        "outputId": "d9cbe3ce-e6e2-45c3-8eb2-fbaf593fe709"
      },
      "execution_count": null,
      "outputs": [
        {
          "output_type": "stream",
          "name": "stdout",
          "text": [
            "2/2 [==============================] - 2s 635ms/step\n"
          ]
        },
        {
          "output_type": "execute_result",
          "data": {
            "text/plain": [
              "array([[0.50072163, 0.49927834],\n",
              "       [0.5010773 , 0.49892268],\n",
              "       [0.50050795, 0.49949205],\n",
              "       [0.5013765 , 0.4986235 ],\n",
              "       [0.50096005, 0.49903998],\n",
              "       [0.50098693, 0.49901307],\n",
              "       [0.5015849 , 0.49841508],\n",
              "       [0.50064284, 0.49935716],\n",
              "       [0.50193834, 0.49806166],\n",
              "       [0.5013453 , 0.49865478],\n",
              "       [0.5002734 , 0.49972662],\n",
              "       [0.5014327 , 0.49856734],\n",
              "       [0.50076044, 0.4992395 ],\n",
              "       [0.500579  , 0.49942103],\n",
              "       [0.50125545, 0.49874452],\n",
              "       [0.49972463, 0.50027543],\n",
              "       [0.5014467 , 0.4985533 ],\n",
              "       [0.5009584 , 0.49904165],\n",
              "       [0.5009189 , 0.49908105],\n",
              "       [0.50144637, 0.49855363],\n",
              "       [0.50117594, 0.498824  ],\n",
              "       [0.5009257 , 0.49907428],\n",
              "       [0.50119466, 0.4988053 ],\n",
              "       [0.5008869 , 0.49911302],\n",
              "       [0.5012739 , 0.4987261 ],\n",
              "       [0.50118536, 0.4988146 ],\n",
              "       [0.5008871 , 0.4991129 ],\n",
              "       [0.5010588 , 0.49894118],\n",
              "       [0.5014244 , 0.49857563],\n",
              "       [0.5000535 , 0.4999465 ],\n",
              "       [0.49839208, 0.5016079 ],\n",
              "       [0.49826932, 0.5017307 ],\n",
              "       [0.49950615, 0.5004938 ],\n",
              "       [0.4998413 , 0.50015867],\n",
              "       [0.49875152, 0.5012485 ],\n",
              "       [0.49833158, 0.50166845],\n",
              "       [0.49834806, 0.50165194],\n",
              "       [0.4982229 , 0.5017771 ],\n",
              "       [0.49877355, 0.5012264 ],\n",
              "       [0.49888462, 0.50111544],\n",
              "       [0.49883652, 0.5011634 ],\n",
              "       [0.49829873, 0.50170124],\n",
              "       [0.49860057, 0.50139946],\n",
              "       [0.49919543, 0.5008046 ],\n",
              "       [0.49844393, 0.50155604],\n",
              "       [0.49854782, 0.5014522 ],\n",
              "       [0.49812177, 0.5018782 ],\n",
              "       [0.49910933, 0.5008907 ],\n",
              "       [0.4985454 , 0.5014546 ],\n",
              "       [0.4989216 , 0.50107837],\n",
              "       [0.499033  , 0.50096697],\n",
              "       [0.49883163, 0.5011684 ],\n",
              "       [0.49888486, 0.5011152 ],\n",
              "       [0.49853364, 0.5014664 ],\n",
              "       [0.49896342, 0.5010366 ],\n",
              "       [0.49816814, 0.5018319 ],\n",
              "       [0.49794126, 0.50205874],\n",
              "       [0.49860224, 0.5013977 ],\n",
              "       [0.4991951 , 0.5008049 ],\n",
              "       [0.50058115, 0.49941882]], dtype=float32)"
            ]
          },
          "metadata": {},
          "execution_count": 15
        }
      ]
    },
    {
      "cell_type": "code",
      "source": [
        "import numpy as np\n",
        "y_pred1=np.argmax(y_pred,axis=1)\n",
        "y_pred1"
      ],
      "metadata": {
        "colab": {
          "base_uri": "https://localhost:8080/"
        },
        "id": "HP7QxV7D-Pb8",
        "outputId": "01a113c7-11c4-4fd3-8e90-1446ffa773ac"
      },
      "execution_count": null,
      "outputs": [
        {
          "output_type": "execute_result",
          "data": {
            "text/plain": [
              "array([0, 0, 0, 0, 0, 0, 0, 0, 0, 0, 0, 0, 0, 0, 0, 1, 0, 0, 0, 0, 0, 0,\n",
              "       0, 0, 0, 0, 0, 0, 0, 0, 1, 1, 1, 1, 1, 1, 1, 1, 1, 1, 1, 1, 1, 1,\n",
              "       1, 1, 1, 1, 1, 1, 1, 1, 1, 1, 1, 1, 1, 1, 1, 0])"
            ]
          },
          "metadata": {},
          "execution_count": 16
        }
      ]
    },
    {
      "cell_type": "code",
      "source": [
        "from sklearn.metrics import accuracy_score,  confusion_matrix\n",
        "print(confusion_matrix(test_set.labels,y_pred1))\n",
        "\n",
        "accuracy_score(test_set.labels,y_pred1)*100"
      ],
      "metadata": {
        "colab": {
          "base_uri": "https://localhost:8080/"
        },
        "id": "snVy-KrV91uI",
        "outputId": "f726490f-67c2-4186-8329-0349f14e6860"
      },
      "execution_count": null,
      "outputs": [
        {
          "output_type": "stream",
          "name": "stdout",
          "text": [
            "[[29  1]\n",
            " [ 1 29]]\n"
          ]
        },
        {
          "output_type": "execute_result",
          "data": {
            "text/plain": [
              "96.66666666666667"
            ]
          },
          "metadata": {},
          "execution_count": 17
        }
      ]
    },
    {
      "cell_type": "code",
      "source": [
        "import pandas as pd\n",
        "df =pd.DataFrame({'filename':test_set.filenames,'y':test_set.classes,'y_pred1':y_pred1})\n",
        "df"
      ],
      "metadata": {
        "colab": {
          "base_uri": "https://localhost:8080/",
          "height": 1000
        },
        "id": "hrjYpYrsL7f8",
        "outputId": "41edcd1a-9de9-4c6f-b0b1-2f349148eaa9"
      },
      "execution_count": null,
      "outputs": [
        {
          "output_type": "execute_result",
          "data": {
            "text/plain": [
              "                                             filename  y  y_pred1\n",
              "0                                 Covid/16654_1_1.png  0        0\n",
              "1                                 Covid/16654_2_1.jpg  0        0\n",
              "2                                 Covid/16654_4_1.jpg  0        0\n",
              "3      Covid/23E99E2E-447C-46E5-8EB2-D35D12473C39.png  0        0\n",
              "4     Covid/31BA3780-2323-493F-8AED-62081B9C383B.jpeg  0        0\n",
              "5     Covid/353889E0-A1E8-4F9E-A0B8-F24F36BCFBFB.jpeg  0        0\n",
              "6                                  Covid/4-x-day1.jpg  0        0\n",
              "7       Covid/41591_2020_819_Fig1_HTML.webp-day10.png  0        0\n",
              "8        Covid/41591_2020_819_Fig1_HTML.webp-day5.png  0        0\n",
              "9     Covid/4e43e48d52c9e2d4c6c1fb9bc1544f_jumbo.jpeg  0        0\n",
              "10    Covid/53EC07C9-5CC6-4BE4-9B6F-D7B0D72AAA7E.jpeg  0        0\n",
              "11    Covid/58cb9263f16e94305c730685358e4e_jumbo.jpeg  0        0\n",
              "12    Covid/6C94A287-C059-46A0-8600-AFB95F4727B7.jpeg  0        0\n",
              "13    Covid/6CB4EFC6-68FA-4CD5-940C-BEFA8DAFE9A7.jpeg  0        0\n",
              "14  Covid/6b3bdbc31f65230b8cdcc3cef5f8ba8a-40ac-0.jpg  0        0\n",
              "15  Covid/6b44464d-73a7-4cf3-bbb6-ffe7168300e3.ann...  0        1\n",
              "16    Covid/7AF6C1AF-D249-4BD2-8C26-449304105D03.jpeg  0        0\n",
              "17    Covid/7C69C012-7479-493F-8722-ABC29C60A2DD.jpeg  0        0\n",
              "18    Covid/85E52EB3-56E9-4D67-82DA-DEA247C82886.jpeg  0        0\n",
              "19  Covid/88de9d8c39e946abd495b37cd07d89e5-2ee6-0.jpg  0        0\n",
              "20  Covid/88de9d8c39e946abd495b37cd07d89e5-6531-0.jpg  0        0\n",
              "21    Covid/B2D20576-00B7-4519-A415-72DE29C90C34.jpeg  0        0\n",
              "22  Covid/auntminnie-c-2020_01_28_23_51_6665_2020_...  0        0\n",
              "23  Covid/auntminnie-d-2020_01_28_23_51_6665_2020_...  0        0\n",
              "24                    Covid/covid-19-pneumonia-12.jpg  0        0\n",
              "25                 Covid/covid-19-pneumonia-14-PA.png  0        0\n",
              "26                  Covid/covid-19-pneumonia-35-1.jpg  0        0\n",
              "27                  Covid/covid-19-pneumonia-35-2.jpg  0        0\n",
              "28                    Covid/covid-19-pneumonia-53.jpg  0        0\n",
              "29                     Covid/covid-19-pneumonia-8.jpg  0        0\n",
              "30                   Normal/NORMAL2-IM-0395-0001.jpeg  1        1\n",
              "31                   Normal/NORMAL2-IM-0408-0001.jpeg  1        1\n",
              "32              Normal/NORMAL2-IM-0416-0001-0001.jpeg  1        1\n",
              "33                   Normal/NORMAL2-IM-0441-0001.jpeg  1        1\n",
              "34                   Normal/NORMAL2-IM-0462-0001.jpeg  1        1\n",
              "35              Normal/NORMAL2-IM-0535-0001-0002.jpeg  1        1\n",
              "36                   Normal/NORMAL2-IM-0652-0001.jpeg  1        1\n",
              "37                   Normal/NORMAL2-IM-0678-0001.jpeg  1        1\n",
              "38                   Normal/NORMAL2-IM-0730-0001.jpeg  1        1\n",
              "39                   Normal/NORMAL2-IM-0765-0001.jpeg  1        1\n",
              "40                   Normal/NORMAL2-IM-0790-0001.jpeg  1        1\n",
              "41                   Normal/NORMAL2-IM-0842-0001.jpeg  1        1\n",
              "42              Normal/NORMAL2-IM-0851-0001-0001.jpeg  1        1\n",
              "43                   Normal/NORMAL2-IM-0851-0001.jpeg  1        1\n",
              "44                   Normal/NORMAL2-IM-0857-0001.jpeg  1        1\n",
              "45                   Normal/NORMAL2-IM-0859-0001.jpeg  1        1\n",
              "46                   Normal/NORMAL2-IM-0869-0001.jpeg  1        1\n",
              "47                   Normal/NORMAL2-IM-0873-0001.jpeg  1        1\n",
              "48                   Normal/NORMAL2-IM-0894-0001.jpeg  1        1\n",
              "49                   Normal/NORMAL2-IM-0905-0001.jpeg  1        1\n",
              "50                   Normal/NORMAL2-IM-0914-0001.jpeg  1        1\n",
              "51                   Normal/NORMAL2-IM-1022-0001.jpeg  1        1\n",
              "52                   Normal/NORMAL2-IM-1037-0001.jpeg  1        1\n",
              "53                   Normal/NORMAL2-IM-1045-0001.jpeg  1        1\n",
              "54                   Normal/NORMAL2-IM-1060-0001.jpeg  1        1\n",
              "55                   Normal/NORMAL2-IM-1191-0001.jpeg  1        1\n",
              "56                   Normal/NORMAL2-IM-1228-0001.jpeg  1        1\n",
              "57                   Normal/NORMAL2-IM-1237-0001.jpeg  1        1\n",
              "58                   Normal/NORMAL2-IM-1240-0001.jpeg  1        1\n",
              "59                   Normal/NORMAL2-IM-1275-0001.jpeg  1        0"
            ],
            "text/html": [
              "\n",
              "  <div id=\"df-223d0c9b-eff1-40e9-a955-bb1c42900246\">\n",
              "    <div class=\"colab-df-container\">\n",
              "      <div>\n",
              "<style scoped>\n",
              "    .dataframe tbody tr th:only-of-type {\n",
              "        vertical-align: middle;\n",
              "    }\n",
              "\n",
              "    .dataframe tbody tr th {\n",
              "        vertical-align: top;\n",
              "    }\n",
              "\n",
              "    .dataframe thead th {\n",
              "        text-align: right;\n",
              "    }\n",
              "</style>\n",
              "<table border=\"1\" class=\"dataframe\">\n",
              "  <thead>\n",
              "    <tr style=\"text-align: right;\">\n",
              "      <th></th>\n",
              "      <th>filename</th>\n",
              "      <th>y</th>\n",
              "      <th>y_pred1</th>\n",
              "    </tr>\n",
              "  </thead>\n",
              "  <tbody>\n",
              "    <tr>\n",
              "      <th>0</th>\n",
              "      <td>Covid/16654_1_1.png</td>\n",
              "      <td>0</td>\n",
              "      <td>0</td>\n",
              "    </tr>\n",
              "    <tr>\n",
              "      <th>1</th>\n",
              "      <td>Covid/16654_2_1.jpg</td>\n",
              "      <td>0</td>\n",
              "      <td>0</td>\n",
              "    </tr>\n",
              "    <tr>\n",
              "      <th>2</th>\n",
              "      <td>Covid/16654_4_1.jpg</td>\n",
              "      <td>0</td>\n",
              "      <td>0</td>\n",
              "    </tr>\n",
              "    <tr>\n",
              "      <th>3</th>\n",
              "      <td>Covid/23E99E2E-447C-46E5-8EB2-D35D12473C39.png</td>\n",
              "      <td>0</td>\n",
              "      <td>0</td>\n",
              "    </tr>\n",
              "    <tr>\n",
              "      <th>4</th>\n",
              "      <td>Covid/31BA3780-2323-493F-8AED-62081B9C383B.jpeg</td>\n",
              "      <td>0</td>\n",
              "      <td>0</td>\n",
              "    </tr>\n",
              "    <tr>\n",
              "      <th>5</th>\n",
              "      <td>Covid/353889E0-A1E8-4F9E-A0B8-F24F36BCFBFB.jpeg</td>\n",
              "      <td>0</td>\n",
              "      <td>0</td>\n",
              "    </tr>\n",
              "    <tr>\n",
              "      <th>6</th>\n",
              "      <td>Covid/4-x-day1.jpg</td>\n",
              "      <td>0</td>\n",
              "      <td>0</td>\n",
              "    </tr>\n",
              "    <tr>\n",
              "      <th>7</th>\n",
              "      <td>Covid/41591_2020_819_Fig1_HTML.webp-day10.png</td>\n",
              "      <td>0</td>\n",
              "      <td>0</td>\n",
              "    </tr>\n",
              "    <tr>\n",
              "      <th>8</th>\n",
              "      <td>Covid/41591_2020_819_Fig1_HTML.webp-day5.png</td>\n",
              "      <td>0</td>\n",
              "      <td>0</td>\n",
              "    </tr>\n",
              "    <tr>\n",
              "      <th>9</th>\n",
              "      <td>Covid/4e43e48d52c9e2d4c6c1fb9bc1544f_jumbo.jpeg</td>\n",
              "      <td>0</td>\n",
              "      <td>0</td>\n",
              "    </tr>\n",
              "    <tr>\n",
              "      <th>10</th>\n",
              "      <td>Covid/53EC07C9-5CC6-4BE4-9B6F-D7B0D72AAA7E.jpeg</td>\n",
              "      <td>0</td>\n",
              "      <td>0</td>\n",
              "    </tr>\n",
              "    <tr>\n",
              "      <th>11</th>\n",
              "      <td>Covid/58cb9263f16e94305c730685358e4e_jumbo.jpeg</td>\n",
              "      <td>0</td>\n",
              "      <td>0</td>\n",
              "    </tr>\n",
              "    <tr>\n",
              "      <th>12</th>\n",
              "      <td>Covid/6C94A287-C059-46A0-8600-AFB95F4727B7.jpeg</td>\n",
              "      <td>0</td>\n",
              "      <td>0</td>\n",
              "    </tr>\n",
              "    <tr>\n",
              "      <th>13</th>\n",
              "      <td>Covid/6CB4EFC6-68FA-4CD5-940C-BEFA8DAFE9A7.jpeg</td>\n",
              "      <td>0</td>\n",
              "      <td>0</td>\n",
              "    </tr>\n",
              "    <tr>\n",
              "      <th>14</th>\n",
              "      <td>Covid/6b3bdbc31f65230b8cdcc3cef5f8ba8a-40ac-0.jpg</td>\n",
              "      <td>0</td>\n",
              "      <td>0</td>\n",
              "    </tr>\n",
              "    <tr>\n",
              "      <th>15</th>\n",
              "      <td>Covid/6b44464d-73a7-4cf3-bbb6-ffe7168300e3.ann...</td>\n",
              "      <td>0</td>\n",
              "      <td>1</td>\n",
              "    </tr>\n",
              "    <tr>\n",
              "      <th>16</th>\n",
              "      <td>Covid/7AF6C1AF-D249-4BD2-8C26-449304105D03.jpeg</td>\n",
              "      <td>0</td>\n",
              "      <td>0</td>\n",
              "    </tr>\n",
              "    <tr>\n",
              "      <th>17</th>\n",
              "      <td>Covid/7C69C012-7479-493F-8722-ABC29C60A2DD.jpeg</td>\n",
              "      <td>0</td>\n",
              "      <td>0</td>\n",
              "    </tr>\n",
              "    <tr>\n",
              "      <th>18</th>\n",
              "      <td>Covid/85E52EB3-56E9-4D67-82DA-DEA247C82886.jpeg</td>\n",
              "      <td>0</td>\n",
              "      <td>0</td>\n",
              "    </tr>\n",
              "    <tr>\n",
              "      <th>19</th>\n",
              "      <td>Covid/88de9d8c39e946abd495b37cd07d89e5-2ee6-0.jpg</td>\n",
              "      <td>0</td>\n",
              "      <td>0</td>\n",
              "    </tr>\n",
              "    <tr>\n",
              "      <th>20</th>\n",
              "      <td>Covid/88de9d8c39e946abd495b37cd07d89e5-6531-0.jpg</td>\n",
              "      <td>0</td>\n",
              "      <td>0</td>\n",
              "    </tr>\n",
              "    <tr>\n",
              "      <th>21</th>\n",
              "      <td>Covid/B2D20576-00B7-4519-A415-72DE29C90C34.jpeg</td>\n",
              "      <td>0</td>\n",
              "      <td>0</td>\n",
              "    </tr>\n",
              "    <tr>\n",
              "      <th>22</th>\n",
              "      <td>Covid/auntminnie-c-2020_01_28_23_51_6665_2020_...</td>\n",
              "      <td>0</td>\n",
              "      <td>0</td>\n",
              "    </tr>\n",
              "    <tr>\n",
              "      <th>23</th>\n",
              "      <td>Covid/auntminnie-d-2020_01_28_23_51_6665_2020_...</td>\n",
              "      <td>0</td>\n",
              "      <td>0</td>\n",
              "    </tr>\n",
              "    <tr>\n",
              "      <th>24</th>\n",
              "      <td>Covid/covid-19-pneumonia-12.jpg</td>\n",
              "      <td>0</td>\n",
              "      <td>0</td>\n",
              "    </tr>\n",
              "    <tr>\n",
              "      <th>25</th>\n",
              "      <td>Covid/covid-19-pneumonia-14-PA.png</td>\n",
              "      <td>0</td>\n",
              "      <td>0</td>\n",
              "    </tr>\n",
              "    <tr>\n",
              "      <th>26</th>\n",
              "      <td>Covid/covid-19-pneumonia-35-1.jpg</td>\n",
              "      <td>0</td>\n",
              "      <td>0</td>\n",
              "    </tr>\n",
              "    <tr>\n",
              "      <th>27</th>\n",
              "      <td>Covid/covid-19-pneumonia-35-2.jpg</td>\n",
              "      <td>0</td>\n",
              "      <td>0</td>\n",
              "    </tr>\n",
              "    <tr>\n",
              "      <th>28</th>\n",
              "      <td>Covid/covid-19-pneumonia-53.jpg</td>\n",
              "      <td>0</td>\n",
              "      <td>0</td>\n",
              "    </tr>\n",
              "    <tr>\n",
              "      <th>29</th>\n",
              "      <td>Covid/covid-19-pneumonia-8.jpg</td>\n",
              "      <td>0</td>\n",
              "      <td>0</td>\n",
              "    </tr>\n",
              "    <tr>\n",
              "      <th>30</th>\n",
              "      <td>Normal/NORMAL2-IM-0395-0001.jpeg</td>\n",
              "      <td>1</td>\n",
              "      <td>1</td>\n",
              "    </tr>\n",
              "    <tr>\n",
              "      <th>31</th>\n",
              "      <td>Normal/NORMAL2-IM-0408-0001.jpeg</td>\n",
              "      <td>1</td>\n",
              "      <td>1</td>\n",
              "    </tr>\n",
              "    <tr>\n",
              "      <th>32</th>\n",
              "      <td>Normal/NORMAL2-IM-0416-0001-0001.jpeg</td>\n",
              "      <td>1</td>\n",
              "      <td>1</td>\n",
              "    </tr>\n",
              "    <tr>\n",
              "      <th>33</th>\n",
              "      <td>Normal/NORMAL2-IM-0441-0001.jpeg</td>\n",
              "      <td>1</td>\n",
              "      <td>1</td>\n",
              "    </tr>\n",
              "    <tr>\n",
              "      <th>34</th>\n",
              "      <td>Normal/NORMAL2-IM-0462-0001.jpeg</td>\n",
              "      <td>1</td>\n",
              "      <td>1</td>\n",
              "    </tr>\n",
              "    <tr>\n",
              "      <th>35</th>\n",
              "      <td>Normal/NORMAL2-IM-0535-0001-0002.jpeg</td>\n",
              "      <td>1</td>\n",
              "      <td>1</td>\n",
              "    </tr>\n",
              "    <tr>\n",
              "      <th>36</th>\n",
              "      <td>Normal/NORMAL2-IM-0652-0001.jpeg</td>\n",
              "      <td>1</td>\n",
              "      <td>1</td>\n",
              "    </tr>\n",
              "    <tr>\n",
              "      <th>37</th>\n",
              "      <td>Normal/NORMAL2-IM-0678-0001.jpeg</td>\n",
              "      <td>1</td>\n",
              "      <td>1</td>\n",
              "    </tr>\n",
              "    <tr>\n",
              "      <th>38</th>\n",
              "      <td>Normal/NORMAL2-IM-0730-0001.jpeg</td>\n",
              "      <td>1</td>\n",
              "      <td>1</td>\n",
              "    </tr>\n",
              "    <tr>\n",
              "      <th>39</th>\n",
              "      <td>Normal/NORMAL2-IM-0765-0001.jpeg</td>\n",
              "      <td>1</td>\n",
              "      <td>1</td>\n",
              "    </tr>\n",
              "    <tr>\n",
              "      <th>40</th>\n",
              "      <td>Normal/NORMAL2-IM-0790-0001.jpeg</td>\n",
              "      <td>1</td>\n",
              "      <td>1</td>\n",
              "    </tr>\n",
              "    <tr>\n",
              "      <th>41</th>\n",
              "      <td>Normal/NORMAL2-IM-0842-0001.jpeg</td>\n",
              "      <td>1</td>\n",
              "      <td>1</td>\n",
              "    </tr>\n",
              "    <tr>\n",
              "      <th>42</th>\n",
              "      <td>Normal/NORMAL2-IM-0851-0001-0001.jpeg</td>\n",
              "      <td>1</td>\n",
              "      <td>1</td>\n",
              "    </tr>\n",
              "    <tr>\n",
              "      <th>43</th>\n",
              "      <td>Normal/NORMAL2-IM-0851-0001.jpeg</td>\n",
              "      <td>1</td>\n",
              "      <td>1</td>\n",
              "    </tr>\n",
              "    <tr>\n",
              "      <th>44</th>\n",
              "      <td>Normal/NORMAL2-IM-0857-0001.jpeg</td>\n",
              "      <td>1</td>\n",
              "      <td>1</td>\n",
              "    </tr>\n",
              "    <tr>\n",
              "      <th>45</th>\n",
              "      <td>Normal/NORMAL2-IM-0859-0001.jpeg</td>\n",
              "      <td>1</td>\n",
              "      <td>1</td>\n",
              "    </tr>\n",
              "    <tr>\n",
              "      <th>46</th>\n",
              "      <td>Normal/NORMAL2-IM-0869-0001.jpeg</td>\n",
              "      <td>1</td>\n",
              "      <td>1</td>\n",
              "    </tr>\n",
              "    <tr>\n",
              "      <th>47</th>\n",
              "      <td>Normal/NORMAL2-IM-0873-0001.jpeg</td>\n",
              "      <td>1</td>\n",
              "      <td>1</td>\n",
              "    </tr>\n",
              "    <tr>\n",
              "      <th>48</th>\n",
              "      <td>Normal/NORMAL2-IM-0894-0001.jpeg</td>\n",
              "      <td>1</td>\n",
              "      <td>1</td>\n",
              "    </tr>\n",
              "    <tr>\n",
              "      <th>49</th>\n",
              "      <td>Normal/NORMAL2-IM-0905-0001.jpeg</td>\n",
              "      <td>1</td>\n",
              "      <td>1</td>\n",
              "    </tr>\n",
              "    <tr>\n",
              "      <th>50</th>\n",
              "      <td>Normal/NORMAL2-IM-0914-0001.jpeg</td>\n",
              "      <td>1</td>\n",
              "      <td>1</td>\n",
              "    </tr>\n",
              "    <tr>\n",
              "      <th>51</th>\n",
              "      <td>Normal/NORMAL2-IM-1022-0001.jpeg</td>\n",
              "      <td>1</td>\n",
              "      <td>1</td>\n",
              "    </tr>\n",
              "    <tr>\n",
              "      <th>52</th>\n",
              "      <td>Normal/NORMAL2-IM-1037-0001.jpeg</td>\n",
              "      <td>1</td>\n",
              "      <td>1</td>\n",
              "    </tr>\n",
              "    <tr>\n",
              "      <th>53</th>\n",
              "      <td>Normal/NORMAL2-IM-1045-0001.jpeg</td>\n",
              "      <td>1</td>\n",
              "      <td>1</td>\n",
              "    </tr>\n",
              "    <tr>\n",
              "      <th>54</th>\n",
              "      <td>Normal/NORMAL2-IM-1060-0001.jpeg</td>\n",
              "      <td>1</td>\n",
              "      <td>1</td>\n",
              "    </tr>\n",
              "    <tr>\n",
              "      <th>55</th>\n",
              "      <td>Normal/NORMAL2-IM-1191-0001.jpeg</td>\n",
              "      <td>1</td>\n",
              "      <td>1</td>\n",
              "    </tr>\n",
              "    <tr>\n",
              "      <th>56</th>\n",
              "      <td>Normal/NORMAL2-IM-1228-0001.jpeg</td>\n",
              "      <td>1</td>\n",
              "      <td>1</td>\n",
              "    </tr>\n",
              "    <tr>\n",
              "      <th>57</th>\n",
              "      <td>Normal/NORMAL2-IM-1237-0001.jpeg</td>\n",
              "      <td>1</td>\n",
              "      <td>1</td>\n",
              "    </tr>\n",
              "    <tr>\n",
              "      <th>58</th>\n",
              "      <td>Normal/NORMAL2-IM-1240-0001.jpeg</td>\n",
              "      <td>1</td>\n",
              "      <td>1</td>\n",
              "    </tr>\n",
              "    <tr>\n",
              "      <th>59</th>\n",
              "      <td>Normal/NORMAL2-IM-1275-0001.jpeg</td>\n",
              "      <td>1</td>\n",
              "      <td>0</td>\n",
              "    </tr>\n",
              "  </tbody>\n",
              "</table>\n",
              "</div>\n",
              "      <button class=\"colab-df-convert\" onclick=\"convertToInteractive('df-223d0c9b-eff1-40e9-a955-bb1c42900246')\"\n",
              "              title=\"Convert this dataframe to an interactive table.\"\n",
              "              style=\"display:none;\">\n",
              "        \n",
              "  <svg xmlns=\"http://www.w3.org/2000/svg\" height=\"24px\"viewBox=\"0 0 24 24\"\n",
              "       width=\"24px\">\n",
              "    <path d=\"M0 0h24v24H0V0z\" fill=\"none\"/>\n",
              "    <path d=\"M18.56 5.44l.94 2.06.94-2.06 2.06-.94-2.06-.94-.94-2.06-.94 2.06-2.06.94zm-11 1L8.5 8.5l.94-2.06 2.06-.94-2.06-.94L8.5 2.5l-.94 2.06-2.06.94zm10 10l.94 2.06.94-2.06 2.06-.94-2.06-.94-.94-2.06-.94 2.06-2.06.94z\"/><path d=\"M17.41 7.96l-1.37-1.37c-.4-.4-.92-.59-1.43-.59-.52 0-1.04.2-1.43.59L10.3 9.45l-7.72 7.72c-.78.78-.78 2.05 0 2.83L4 21.41c.39.39.9.59 1.41.59.51 0 1.02-.2 1.41-.59l7.78-7.78 2.81-2.81c.8-.78.8-2.07 0-2.86zM5.41 20L4 18.59l7.72-7.72 1.47 1.35L5.41 20z\"/>\n",
              "  </svg>\n",
              "      </button>\n",
              "      \n",
              "  <style>\n",
              "    .colab-df-container {\n",
              "      display:flex;\n",
              "      flex-wrap:wrap;\n",
              "      gap: 12px;\n",
              "    }\n",
              "\n",
              "    .colab-df-convert {\n",
              "      background-color: #E8F0FE;\n",
              "      border: none;\n",
              "      border-radius: 50%;\n",
              "      cursor: pointer;\n",
              "      display: none;\n",
              "      fill: #1967D2;\n",
              "      height: 32px;\n",
              "      padding: 0 0 0 0;\n",
              "      width: 32px;\n",
              "    }\n",
              "\n",
              "    .colab-df-convert:hover {\n",
              "      background-color: #E2EBFA;\n",
              "      box-shadow: 0px 1px 2px rgba(60, 64, 67, 0.3), 0px 1px 3px 1px rgba(60, 64, 67, 0.15);\n",
              "      fill: #174EA6;\n",
              "    }\n",
              "\n",
              "    [theme=dark] .colab-df-convert {\n",
              "      background-color: #3B4455;\n",
              "      fill: #D2E3FC;\n",
              "    }\n",
              "\n",
              "    [theme=dark] .colab-df-convert:hover {\n",
              "      background-color: #434B5C;\n",
              "      box-shadow: 0px 1px 3px 1px rgba(0, 0, 0, 0.15);\n",
              "      filter: drop-shadow(0px 1px 2px rgba(0, 0, 0, 0.3));\n",
              "      fill: #FFFFFF;\n",
              "    }\n",
              "  </style>\n",
              "\n",
              "      <script>\n",
              "        const buttonEl =\n",
              "          document.querySelector('#df-223d0c9b-eff1-40e9-a955-bb1c42900246 button.colab-df-convert');\n",
              "        buttonEl.style.display =\n",
              "          google.colab.kernel.accessAllowed ? 'block' : 'none';\n",
              "\n",
              "        async function convertToInteractive(key) {\n",
              "          const element = document.querySelector('#df-223d0c9b-eff1-40e9-a955-bb1c42900246');\n",
              "          const dataTable =\n",
              "            await google.colab.kernel.invokeFunction('convertToInteractive',\n",
              "                                                     [key], {});\n",
              "          if (!dataTable) return;\n",
              "\n",
              "          const docLinkHtml = 'Like what you see? Visit the ' +\n",
              "            '<a target=\"_blank\" href=https://colab.research.google.com/notebooks/data_table.ipynb>data table notebook</a>'\n",
              "            + ' to learn more about interactive tables.';\n",
              "          element.innerHTML = '';\n",
              "          dataTable['output_type'] = 'display_data';\n",
              "          await google.colab.output.renderOutput(dataTable, element);\n",
              "          const docLink = document.createElement('div');\n",
              "          docLink.innerHTML = docLinkHtml;\n",
              "          element.appendChild(docLink);\n",
              "        }\n",
              "      </script>\n",
              "    </div>\n",
              "  </div>\n",
              "  "
            ]
          },
          "metadata": {},
          "execution_count": 20
        }
      ]
    },
    {
      "cell_type": "code",
      "source": [
        "misclassification=df[df['y']!=df['y_pred1']]\n",
        "misclassification"
      ],
      "metadata": {
        "colab": {
          "base_uri": "https://localhost:8080/",
          "height": 112
        },
        "id": "597K7bzoMCxL",
        "outputId": "20019ce7-b7f4-430c-de09-ab734e167a51"
      },
      "execution_count": null,
      "outputs": [
        {
          "output_type": "execute_result",
          "data": {
            "text/plain": [
              "                                             filename  y  y_pred1\n",
              "15  Covid/6b44464d-73a7-4cf3-bbb6-ffe7168300e3.ann...  0        1\n",
              "59                   Normal/NORMAL2-IM-1275-0001.jpeg  1        0"
            ],
            "text/html": [
              "\n",
              "  <div id=\"df-f86dd813-2793-4300-ad77-86ea967995e3\">\n",
              "    <div class=\"colab-df-container\">\n",
              "      <div>\n",
              "<style scoped>\n",
              "    .dataframe tbody tr th:only-of-type {\n",
              "        vertical-align: middle;\n",
              "    }\n",
              "\n",
              "    .dataframe tbody tr th {\n",
              "        vertical-align: top;\n",
              "    }\n",
              "\n",
              "    .dataframe thead th {\n",
              "        text-align: right;\n",
              "    }\n",
              "</style>\n",
              "<table border=\"1\" class=\"dataframe\">\n",
              "  <thead>\n",
              "    <tr style=\"text-align: right;\">\n",
              "      <th></th>\n",
              "      <th>filename</th>\n",
              "      <th>y</th>\n",
              "      <th>y_pred1</th>\n",
              "    </tr>\n",
              "  </thead>\n",
              "  <tbody>\n",
              "    <tr>\n",
              "      <th>15</th>\n",
              "      <td>Covid/6b44464d-73a7-4cf3-bbb6-ffe7168300e3.ann...</td>\n",
              "      <td>0</td>\n",
              "      <td>1</td>\n",
              "    </tr>\n",
              "    <tr>\n",
              "      <th>59</th>\n",
              "      <td>Normal/NORMAL2-IM-1275-0001.jpeg</td>\n",
              "      <td>1</td>\n",
              "      <td>0</td>\n",
              "    </tr>\n",
              "  </tbody>\n",
              "</table>\n",
              "</div>\n",
              "      <button class=\"colab-df-convert\" onclick=\"convertToInteractive('df-f86dd813-2793-4300-ad77-86ea967995e3')\"\n",
              "              title=\"Convert this dataframe to an interactive table.\"\n",
              "              style=\"display:none;\">\n",
              "        \n",
              "  <svg xmlns=\"http://www.w3.org/2000/svg\" height=\"24px\"viewBox=\"0 0 24 24\"\n",
              "       width=\"24px\">\n",
              "    <path d=\"M0 0h24v24H0V0z\" fill=\"none\"/>\n",
              "    <path d=\"M18.56 5.44l.94 2.06.94-2.06 2.06-.94-2.06-.94-.94-2.06-.94 2.06-2.06.94zm-11 1L8.5 8.5l.94-2.06 2.06-.94-2.06-.94L8.5 2.5l-.94 2.06-2.06.94zm10 10l.94 2.06.94-2.06 2.06-.94-2.06-.94-.94-2.06-.94 2.06-2.06.94z\"/><path d=\"M17.41 7.96l-1.37-1.37c-.4-.4-.92-.59-1.43-.59-.52 0-1.04.2-1.43.59L10.3 9.45l-7.72 7.72c-.78.78-.78 2.05 0 2.83L4 21.41c.39.39.9.59 1.41.59.51 0 1.02-.2 1.41-.59l7.78-7.78 2.81-2.81c.8-.78.8-2.07 0-2.86zM5.41 20L4 18.59l7.72-7.72 1.47 1.35L5.41 20z\"/>\n",
              "  </svg>\n",
              "      </button>\n",
              "      \n",
              "  <style>\n",
              "    .colab-df-container {\n",
              "      display:flex;\n",
              "      flex-wrap:wrap;\n",
              "      gap: 12px;\n",
              "    }\n",
              "\n",
              "    .colab-df-convert {\n",
              "      background-color: #E8F0FE;\n",
              "      border: none;\n",
              "      border-radius: 50%;\n",
              "      cursor: pointer;\n",
              "      display: none;\n",
              "      fill: #1967D2;\n",
              "      height: 32px;\n",
              "      padding: 0 0 0 0;\n",
              "      width: 32px;\n",
              "    }\n",
              "\n",
              "    .colab-df-convert:hover {\n",
              "      background-color: #E2EBFA;\n",
              "      box-shadow: 0px 1px 2px rgba(60, 64, 67, 0.3), 0px 1px 3px 1px rgba(60, 64, 67, 0.15);\n",
              "      fill: #174EA6;\n",
              "    }\n",
              "\n",
              "    [theme=dark] .colab-df-convert {\n",
              "      background-color: #3B4455;\n",
              "      fill: #D2E3FC;\n",
              "    }\n",
              "\n",
              "    [theme=dark] .colab-df-convert:hover {\n",
              "      background-color: #434B5C;\n",
              "      box-shadow: 0px 1px 3px 1px rgba(0, 0, 0, 0.15);\n",
              "      filter: drop-shadow(0px 1px 2px rgba(0, 0, 0, 0.3));\n",
              "      fill: #FFFFFF;\n",
              "    }\n",
              "  </style>\n",
              "\n",
              "      <script>\n",
              "        const buttonEl =\n",
              "          document.querySelector('#df-f86dd813-2793-4300-ad77-86ea967995e3 button.colab-df-convert');\n",
              "        buttonEl.style.display =\n",
              "          google.colab.kernel.accessAllowed ? 'block' : 'none';\n",
              "\n",
              "        async function convertToInteractive(key) {\n",
              "          const element = document.querySelector('#df-f86dd813-2793-4300-ad77-86ea967995e3');\n",
              "          const dataTable =\n",
              "            await google.colab.kernel.invokeFunction('convertToInteractive',\n",
              "                                                     [key], {});\n",
              "          if (!dataTable) return;\n",
              "\n",
              "          const docLinkHtml = 'Like what you see? Visit the ' +\n",
              "            '<a target=\"_blank\" href=https://colab.research.google.com/notebooks/data_table.ipynb>data table notebook</a>'\n",
              "            + ' to learn more about interactive tables.';\n",
              "          element.innerHTML = '';\n",
              "          dataTable['output_type'] = 'display_data';\n",
              "          await google.colab.output.renderOutput(dataTable, element);\n",
              "          const docLink = document.createElement('div');\n",
              "          docLink.innerHTML = docLinkHtml;\n",
              "          element.appendChild(docLink);\n",
              "        }\n",
              "      </script>\n",
              "    </div>\n",
              "  </div>\n",
              "  "
            ]
          },
          "metadata": {},
          "execution_count": 21
        }
      ]
    },
    {
      "cell_type": "code",
      "source": [
        "misclassification['y'].count()"
      ],
      "metadata": {
        "colab": {
          "base_uri": "https://localhost:8080/"
        },
        "id": "0qxiJmpNMDZ6",
        "outputId": "ee141ba4-fecd-428a-fa21-d05ec7c2fd4d"
      },
      "execution_count": null,
      "outputs": [
        {
          "output_type": "execute_result",
          "data": {
            "text/plain": [
              "2"
            ]
          },
          "metadata": {},
          "execution_count": 23
        }
      ]
    },
    {
      "cell_type": "code",
      "source": [
        "img1 =tf.keras.utils.load_img('/content/drive/MyDrive/CovidDataset/Val/Normal/NORMAL2-IM-0408-0001.jpeg',target_size =(224,224))\n",
        "img1"
      ],
      "metadata": {
        "colab": {
          "base_uri": "https://localhost:8080/",
          "height": 241
        },
        "id": "YCT-jIYhMdVk",
        "outputId": "5e3fe581-d8d7-4ecc-be49-78b9864f1990"
      },
      "execution_count": null,
      "outputs": [
        {
          "output_type": "execute_result",
          "data": {
            "text/plain": [
              "<PIL.Image.Image image mode=RGB size=224x224 at 0x7F51B350A490>"
            ],
            "image/png": "[encoded data removed]"
          },
          "metadata": {},
          "execution_count": 24
        }
      ]
    },
    {
      "cell_type": "code",
      "source": [
        "img =tf.keras.preprocessing.image.img_to_array(img1)\n",
        "img.shape"
      ],
      "metadata": {
        "colab": {
          "base_uri": "https://localhost:8080/"
        },
        "id": "U0qvMG_pMluw",
        "outputId": "82d28ae7-774c-454c-ed19-d74db6a914e3"
      },
      "execution_count": null,
      "outputs": [
        {
          "output_type": "execute_result",
          "data": {
            "text/plain": [
              "(224, 224, 3)"
            ]
          },
          "metadata": {},
          "execution_count": 25
        }
      ]
    },
    {
      "cell_type": "code",
      "source": [
        "img = img/255\n",
        "img_expand =np.expand_dims(img, axis =0)\n",
        "img_expand.shape\n",
        "\n",
        "# img_expand=img.reshape(1,img.shape[0],img.shape[1],img.shape[2])\n",
        "# img_expand.shape"
      ],
      "metadata": {
        "colab": {
          "base_uri": "https://localhost:8080/"
        },
        "id": "B-aS0kDcMxfY",
        "outputId": "86f36cce-7549-42af-b553-2a337d06b882"
      },
      "execution_count": null,
      "outputs": [
        {
          "output_type": "execute_result",
          "data": {
            "text/plain": [
              "(1, 224, 224, 3)"
            ]
          },
          "metadata": {},
          "execution_count": 26
        }
      ]
    },
    {
      "cell_type": "code",
      "source": [
        "y_pred_img = model.predict(img_expand)\n",
        "y_pred1_img=np.argmax(y_pred_img,axis=1)\n",
        "print(y_pred_img)"
      ],
      "metadata": {
        "colab": {
          "base_uri": "https://localhost:8080/"
        },
        "id": "GqU8xhOrNZG7",
        "outputId": "bb7c0804-d38e-4199-af34-2f0274ddca03"
      },
      "execution_count": null,
      "outputs": [
        {
          "output_type": "stream",
          "name": "stdout",
          "text": [
            "1/1 [==============================] - 1s 778ms/step\n",
            "[[0.49826935 0.5017307 ]]\n"
          ]
        }
      ]
    },
    {
      "cell_type": "code",
      "source": [
        "if y_pred_img[0][0] >= 0.5:\n",
        "    prediction = 'covid'\n",
        "else:\n",
        "    prediction = 'normal'\n",
        "print(prediction)"
      ],
      "metadata": {
        "colab": {
          "base_uri": "https://localhost:8080/"
        },
        "id": "UpbkBaSmMyVs",
        "outputId": "b21f289b-6b4c-4087-a098-938a33773cff"
      },
      "execution_count": null,
      "outputs": [
        {
          "output_type": "stream",
          "name": "stdout",
          "text": [
            "normal\n"
          ]
        }
      ]
    }
  ]
}