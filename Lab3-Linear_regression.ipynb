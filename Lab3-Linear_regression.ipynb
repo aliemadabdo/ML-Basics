{
  "nbformat": 4,
  "nbformat_minor": 0,
  "metadata": {
    "colab": {
      "provenance": [],
      "authorship_tag": "ABX9TyPLog3Gd+N7dfbDvEySEh/y",
      "include_colab_link": true
    },
    "kernelspec": {
      "name": "python3",
      "display_name": "Python 3"
    },
    "language_info": {
      "name": "python"
    }
  },
  "cells": [
    {
      "cell_type": "markdown",
      "metadata": {
        "id": "view-in-github",
        "colab_type": "text"
      },
      "source": [
        "<a href=\"https://colab.research.google.com/github/aliemadabdo/ML-Basics/blob/main/Lab3-Linear_regression.ipynb\" target=\"_parent\"><img src=\"https://colab.research.google.com/assets/colab-badge.svg\" alt=\"Open In Colab\"/></a>"
      ]
    },
    {
      "cell_type": "code",
      "source": [
        "#Import the required modules, numpy for calculation, and Matplotlib for drawing\n",
        "import numpy as np \n",
        "import matplotlib.pyplot as plt \n",
        "import csv"
      ],
      "metadata": {
        "id": "hSUq4DR3FMKC"
      },
      "execution_count": 2,
      "outputs": []
    },
    {
      "cell_type": "code",
      "execution_count": 3,
      "metadata": {
        "colab": {
          "base_uri": "https://localhost:8080/",
          "height": 387
        },
        "id": "7cK6AuWfoNra",
        "outputId": "8b7b4221-2601-4e8b-c239-7505e4b86674"
      },
      "outputs": [
        {
          "output_type": "stream",
          "name": "stdout",
          "text": [
            "[ 1.1  1.3  1.5  2.   2.2  2.9  3.   3.2  3.2  3.7  3.9  4.   4.   4.1\n",
            "  4.5  4.9  5.1  5.3  5.9  6.   6.8  7.1  7.9  8.2  8.7  9.   9.5  9.6\n",
            " 10.3 10.5]\n",
            "30\n",
            "<class 'csv.DictReader'>\n",
            "<class 'dict'>\n"
          ]
        },
        {
          "output_type": "execute_result",
          "data": {
            "text/plain": [
              "<matplotlib.collections.PathCollection at 0x7f78ecd38940>"
            ]
          },
          "metadata": {},
          "execution_count": 3
        },
        {
          "output_type": "display_data",
          "data": {
            "text/plain": [
              "<Figure size 432x288 with 1 Axes>"
            ],
            "image/png": "[encoded data removed]"
          },
          "metadata": {
            "needs_background": "light"
          }
        }
      ],
      "source": [
        "y, x=[], []\n",
        "with open('Salary.csv', newline='') as csvfile:\n",
        "    reader = csv.DictReader(csvfile, delimiter=\",\") #list of dics\n",
        "    for row in reader:\n",
        "      x += [float(row['x'])]\n",
        "      y += [int(float(row['y']))]\n",
        "\n",
        "x=np.array(x)\n",
        "y=np.array(y)\n",
        "#Show the effect of a scatter plot\n",
        "print(x)\n",
        "print(y.size)\n",
        "print(type(reader)) \n",
        "print(type(row)) \n",
        "\n",
        "plt.scatter(x,y)\n",
        " \n"
      ]
    },
    {
      "cell_type": "code",
      "source": [],
      "metadata": {
        "id": "CHCglOz6m5mk"
      },
      "execution_count": 52,
      "outputs": []
    },
    {
      "cell_type": "code",
      "source": [
        "#The basic linear regression model is wx+ b, and since this is a two-dimensional space, the model is ax+ b\n",
        "def model(a, b, x): \n",
        "  return a*x + b\n",
        "#The most commonly used loss function of linear regression model is the loss function of mean variance difference \n",
        "def loss_function(a, b, x, y): \n",
        "  num = len(x) \n",
        "  #print(f\"befor model fn {a}\") \n",
        "  prediction=model(a,b,x) \n",
        "  #print(f\"after model fn {a}\") \n",
        "  return (0.5/num) * (np.square(prediction-y)).sum()\n",
        "#The optimization function mainly USES partial derivatives to update two parameters a and b \n",
        "def optimize(a,b,x,y): \n",
        "  num = len(x) \n",
        "  prediction = model(a,b,x) \n",
        "  #Update the values of A and B by finding the partial derivatives of the loss function on a and b \n",
        "  da = (1.0/num) * ((prediction -y)*x).sum() \n",
        "  db = (1.0/num) * ((prediction -y).sum())\n",
        "  print(f\"befor equation fn {a}\") \n",
        "  a = a -Lr*da \n",
        "  #print(f\"after equation fn {a}\") \n",
        "  b = b -Lr*db \n",
        "  return a, b\n",
        "#iterated function, return a and b \n",
        "def iterate(a,b,x,y,times): \n",
        "  for i in range(0,times):\n",
        "    #print(f\"befor optmize fn {a}\") \n",
        "    a,b = optimize(a,b,x,y)\n",
        "   # print(f\"after optmize fn {a}\") \n",
        "  #  print(a) \n",
        "  return a, b \n",
        "\n",
        "#Initialize parameters and display \n",
        "a = np.random.rand(1)\n",
        "#print(a) \n",
        "b = np.random.rand(1) \n",
        "#print(b) \n",
        "Lr = 0.01\n",
        "#For the first iteration, the parameter values, losses, and visualization after the iteration are displayed \n",
        "for itr in range(1,4):\n",
        "  print(itr)\n",
        "  a,b = iterate(a,b,x,y,3) \n",
        "  prediction=model(a,b,x) \n",
        "  loss = loss_function(a, b, x, y) \n",
        "  #print(a,b,loss)\n",
        "  #print(f\"y =\\n {y}\\n\\n x =\\n {x}\\n\\n prediction =\\n {prediction}\") \n",
        "  plt.scatter(x,y) \n",
        "  plt.plot(x,prediction)\n",
        " # print(f\"after each plot {a}\") \n",
        "print(a)\n"
      ],
      "metadata": {
        "colab": {
          "base_uri": "https://localhost:8080/",
          "height": 492
        },
        "id": "gPr_ja_5vSy_",
        "outputId": "49a58823-5878-4972-bb0d-b19575d89bfa"
      },
      "execution_count": 85,
      "outputs": [
        {
          "output_type": "stream",
          "name": "stdout",
          "text": [
            "1\n",
            "befor equation fn [0.00883117]\n",
            "befor equation fn [4773.9616372]\n",
            "befor equation fn [7788.11318199]\n",
            "2\n",
            "befor equation fn [9690.16663589]\n",
            "befor equation fn [10889.43707834]\n",
            "befor equation fn [11644.59057588]\n",
            "3\n",
            "befor equation fn [12119.09076693]\n",
            "befor equation fn [12416.23825168]\n",
            "befor equation fn [12601.31368449]\n",
            "[12715.57106929]\n"
          ]
        },
        {
          "output_type": "display_data",
          "data": {
            "text/plain": [
              "<Figure size 432x288 with 1 Axes>"
            ],
            "image/png": "[encoded data removed]"
          },
          "metadata": {
            "needs_background": "light"
          }
        }
      ]
    },
    {
      "cell_type": "code",
      "source": [],
      "metadata": {
        "id": "CnLTiULVadLc"
      },
      "execution_count": 28,
      "outputs": []
    }
  ]
}