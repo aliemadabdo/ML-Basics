{
  "nbformat": 4,
  "nbformat_minor": 0,
  "metadata": {
    "colab": {
      "provenance": [],
      "authorship_tag": "ABX9TyOeQJE395GTardJlIHMyVcv",
      "include_colab_link": true
    },
    "kernelspec": {
      "name": "python3",
      "display_name": "Python 3"
    },
    "language_info": {
      "name": "python"
    }
  },
  "cells": [
    {
      "cell_type": "markdown",
      "metadata": {
        "id": "view-in-github",
        "colab_type": "text"
      },
      "source": [
        "<a href=\"https://colab.research.google.com/github/aliemadabdo/ML-Basics/blob/main/Lab6-LR_with_NN.ipynb\" target=\"_parent\"><img src=\"https://colab.research.google.com/assets/colab-badge.svg\" alt=\"Open In Colab\"/></a>"
      ]
    },
    {
      "cell_type": "code",
      "execution_count": 25,
      "metadata": {
        "id": "kU-wDF1ZXvfg"
      },
      "outputs": [],
      "source": [
        "#Import the required modules, numpy for calculation, and Matplotlib for drawing\n",
        "import numpy as np \n",
        "import matplotlib.pyplot as plt \n",
        "import csv\n",
        "from keras.layers import Dense\n",
        "from keras.models import Sequential\n",
        "import pandas as pd"
      ]
    },
    {
      "cell_type": "code",
      "source": [
        "y, x=[], []\n",
        "with open('Salary.csv', newline='') as csvfile:\n",
        "    reader = csv.DictReader(csvfile, delimiter=\",\") #list of dics\n",
        "    for row in reader:\n",
        "      x += [float(row['x'])]\n",
        "      y += [int(float(row['y']))]\n",
        "\n",
        "x=np.array(x)\n",
        "y=np.array(y)\n",
        "\n",
        " \n"
      ],
      "metadata": {
        "id": "wvgKDY7fYGQl"
      },
      "execution_count": 6,
      "outputs": []
    },
    {
      "cell_type": "code",
      "source": [
        "#The basic linear regression model is wx+ b, and since this is a two-dimensional space, the model is ax+ b\n",
        "def model(a, b, x): \n",
        "  return a*x + b\n",
        "#The most commonly used loss function of linear regression model is the loss function of mean variance difference \n",
        "def loss_function(a, b, x, y): \n",
        "  num = len(x) \n",
        "  #print(f\"befor model fn {a}\") \n",
        "  prediction=model(a,b,x) \n",
        "  #print(f\"after model fn {a}\") \n",
        "  return (0.5/num) * (np.square(prediction-y)).sum()\n",
        "#The optimization function mainly USES partial derivatives to update two parameters a and b \n",
        "global daList\n",
        "daList = []\n",
        "def optimize(a,b,x,y): \n",
        "  num = len(x) \n",
        "  prediction = model(a,b,x) \n",
        "  #Update the values of A and B by finding the partial derivatives of the loss function on a and b \n",
        "  da = (1.0/num) * ((prediction -y)*x).sum() \n",
        "  daList.append(-da)\n",
        "  db = (1.0/num) * ((prediction -y).sum())\n",
        "\n",
        "  \n",
        "  plt.show()\n",
        "  #print(f\"befor equation fn {a}\") \n",
        "  a = a -Lr*da \n",
        "  #print(f\"after equation fn {a}\") \n",
        "  b = b -Lr*db \n",
        " \n",
        "  return a, b\n",
        "#iterated function, return a and b \n",
        "def iterate(a,b,x,y,times): \n",
        "  for i in range(0,times):\n",
        "    #print(f\"befor optmize fn {a}\") \n",
        "    a,b = optimize(a,b,x,y)\n",
        "   # print(f\"after optmize fn {a}\") \n",
        "  #  print(a) \n",
        "  \n",
        "  return a, b "
      ],
      "metadata": {
        "id": "BK0cVFWuYJUs"
      },
      "execution_count": 7,
      "outputs": []
    },
    {
      "cell_type": "code",
      "source": [
        "\n",
        "#Initialize parameters and display \n",
        "a = np.random.rand(1)\n",
        "#print(a) \n",
        "b = np.random.rand(1) \n",
        "#print(b) \n",
        "Lr = 0.0001\n",
        "\n",
        "a,b = iterate(a,b,x,y,1200) \n",
        "prediction=model(a,b,x) \n",
        "loss = loss_function(a, b, x, y) \n"
      ],
      "metadata": {
        "id": "7wj34zZaYLx7"
      },
      "execution_count": 10,
      "outputs": []
    },
    {
      "cell_type": "code",
      "source": [
        "model = Sequential()\n",
        "model.add(Dense(1, input_dim=1,activation='linear'))\n",
        "# 1 --> nimber of nerons \n",
        "\n",
        "model.compile(loss='mse',optimizer='sgd',metrics='mae') \n",
        "# sgd : stocatic gradiant \n",
        "model.summary()"
      ],
      "metadata": {
        "colab": {
          "base_uri": "https://localhost:8080/"
        },
        "id": "tZ3kmZffZ0gT",
        "outputId": "0aed1ad1-fa4f-4287-b7df-03f1f6d192f3"
      },
      "execution_count": 16,
      "outputs": [
        {
          "output_type": "stream",
          "name": "stdout",
          "text": [
            "Model: \"sequential_5\"\n",
            "_________________________________________________________________\n",
            " Layer (type)                Output Shape              Param #   \n",
            "=================================================================\n",
            " dense_5 (Dense)             (None, 1)                 2         \n",
            "                                                                 \n",
            "=================================================================\n",
            "Total params: 2\n",
            "Trainable params: 2\n",
            "Non-trainable params: 0\n",
            "_________________________________________________________________\n"
          ]
        }
      ]
    },
    {
      "cell_type": "code",
      "source": [
        "result = model.fit(x,y,batch_size=8,epochs=100,verbose=1) \n",
        "# epoch = itirations on data\n",
        "\n",
        "# defult batch size = 32 ================================== mini batch\n",
        "# output 4/4 which means update done 4 times (30/8) ======= mini batch"
      ],
      "metadata": {
        "colab": {
          "base_uri": "https://localhost:8080/"
        },
        "id": "NdUXIDpaayug",
        "outputId": "05cb7111-9043-4afe-b210-91f887103607"
      },
      "execution_count": 24,
      "outputs": [
        {
          "output_type": "stream",
          "name": "stdout",
          "text": [
            "Epoch 1/100\n",
            "4/4 [==============================] - 0s 5ms/step - loss: 140862272.0000 - mae: 9741.4199\n",
            "Epoch 2/100\n",
            "4/4 [==============================] - 0s 7ms/step - loss: 132523448.0000 - mae: 9272.2441\n",
            "Epoch 3/100\n",
            "4/4 [==============================] - 0s 7ms/step - loss: 130843896.0000 - mae: 9226.7686\n",
            "Epoch 4/100\n",
            "4/4 [==============================] - 0s 4ms/step - loss: 132008392.0000 - mae: 9237.4648\n",
            "Epoch 5/100\n",
            "4/4 [==============================] - 0s 6ms/step - loss: 123006640.0000 - mae: 8772.5752\n",
            "Epoch 6/100\n",
            "4/4 [==============================] - 0s 5ms/step - loss: 117713920.0000 - mae: 8712.2402\n",
            "Epoch 7/100\n",
            "4/4 [==============================] - 0s 5ms/step - loss: 124719592.0000 - mae: 9208.8945\n",
            "Epoch 8/100\n",
            "4/4 [==============================] - 0s 6ms/step - loss: 114362536.0000 - mae: 8637.9473\n",
            "Epoch 9/100\n",
            "4/4 [==============================] - 0s 4ms/step - loss: 113969152.0000 - mae: 8495.8154\n",
            "Epoch 10/100\n",
            "4/4 [==============================] - 0s 6ms/step - loss: 105486352.0000 - mae: 8209.9541\n",
            "Epoch 11/100\n",
            "4/4 [==============================] - 0s 3ms/step - loss: 108417312.0000 - mae: 8374.6123\n",
            "Epoch 12/100\n",
            "4/4 [==============================] - 0s 4ms/step - loss: 109328256.0000 - mae: 8708.5488\n",
            "Epoch 13/100\n",
            "4/4 [==============================] - 0s 3ms/step - loss: 103418640.0000 - mae: 8249.7510\n",
            "Epoch 14/100\n",
            "4/4 [==============================] - 0s 4ms/step - loss: 100101040.0000 - mae: 7989.5967\n",
            "Epoch 15/100\n",
            "4/4 [==============================] - 0s 4ms/step - loss: 113787536.0000 - mae: 8880.5586\n",
            "Epoch 16/100\n",
            "4/4 [==============================] - 0s 3ms/step - loss: 92703056.0000 - mae: 7672.7490\n",
            "Epoch 17/100\n",
            "4/4 [==============================] - 0s 4ms/step - loss: 91263328.0000 - mae: 7617.7212\n",
            "Epoch 18/100\n",
            "4/4 [==============================] - 0s 3ms/step - loss: 95367088.0000 - mae: 7764.3608\n",
            "Epoch 19/100\n",
            "4/4 [==============================] - 0s 4ms/step - loss: 88103856.0000 - mae: 7632.8120\n",
            "Epoch 20/100\n",
            "4/4 [==============================] - 0s 3ms/step - loss: 84590512.0000 - mae: 7318.4990\n",
            "Epoch 21/100\n",
            "4/4 [==============================] - 0s 3ms/step - loss: 83472240.0000 - mae: 7482.8677\n",
            "Epoch 22/100\n",
            "4/4 [==============================] - 0s 3ms/step - loss: 82608472.0000 - mae: 7114.0381\n",
            "Epoch 23/100\n",
            "4/4 [==============================] - 0s 4ms/step - loss: 80967120.0000 - mae: 7174.4585\n",
            "Epoch 24/100\n",
            "4/4 [==============================] - 0s 4ms/step - loss: 78230768.0000 - mae: 7516.7061\n",
            "Epoch 25/100\n",
            "4/4 [==============================] - 0s 4ms/step - loss: 76135456.0000 - mae: 6849.9331\n",
            "Epoch 26/100\n",
            "4/4 [==============================] - 0s 4ms/step - loss: 80645872.0000 - mae: 7388.6138\n",
            "Epoch 27/100\n",
            "4/4 [==============================] - 0s 4ms/step - loss: 76306400.0000 - mae: 7123.7090\n",
            "Epoch 28/100\n",
            "4/4 [==============================] - 0s 4ms/step - loss: 71362920.0000 - mae: 6917.0654\n",
            "Epoch 29/100\n",
            "4/4 [==============================] - 0s 4ms/step - loss: 82147112.0000 - mae: 7252.9136\n",
            "Epoch 30/100\n",
            "4/4 [==============================] - 0s 4ms/step - loss: 71086512.0000 - mae: 6549.7349\n",
            "Epoch 31/100\n",
            "4/4 [==============================] - 0s 4ms/step - loss: 71983136.0000 - mae: 6792.7754\n",
            "Epoch 32/100\n",
            "4/4 [==============================] - 0s 4ms/step - loss: 65792316.0000 - mae: 6613.3706\n",
            "Epoch 33/100\n",
            "4/4 [==============================] - 0s 4ms/step - loss: 67193648.0000 - mae: 6561.0771\n",
            "Epoch 34/100\n",
            "4/4 [==============================] - 0s 5ms/step - loss: 68546344.0000 - mae: 6836.3784\n",
            "Epoch 35/100\n",
            "4/4 [==============================] - 0s 5ms/step - loss: 66574744.0000 - mae: 6465.0215\n",
            "Epoch 36/100\n",
            "4/4 [==============================] - 0s 4ms/step - loss: 68553144.0000 - mae: 6657.3950\n",
            "Epoch 37/100\n",
            "4/4 [==============================] - 0s 4ms/step - loss: 67729240.0000 - mae: 6540.4126\n",
            "Epoch 38/100\n",
            "4/4 [==============================] - 0s 4ms/step - loss: 61983164.0000 - mae: 6433.0122\n",
            "Epoch 39/100\n",
            "4/4 [==============================] - 0s 4ms/step - loss: 60066248.0000 - mae: 6323.5391\n",
            "Epoch 40/100\n",
            "4/4 [==============================] - 0s 4ms/step - loss: 61552700.0000 - mae: 6384.5005\n",
            "Epoch 41/100\n",
            "4/4 [==============================] - 0s 4ms/step - loss: 59059412.0000 - mae: 6167.6084\n",
            "Epoch 42/100\n",
            "4/4 [==============================] - 0s 4ms/step - loss: 56911888.0000 - mae: 6088.8447\n",
            "Epoch 43/100\n",
            "4/4 [==============================] - 0s 4ms/step - loss: 57475304.0000 - mae: 6159.2559\n",
            "Epoch 44/100\n",
            "4/4 [==============================] - 0s 4ms/step - loss: 61065364.0000 - mae: 6317.7798\n",
            "Epoch 45/100\n",
            "4/4 [==============================] - 0s 4ms/step - loss: 59156148.0000 - mae: 6101.0884\n",
            "Epoch 46/100\n",
            "4/4 [==============================] - 0s 4ms/step - loss: 64521216.0000 - mae: 6638.4595\n",
            "Epoch 47/100\n",
            "4/4 [==============================] - 0s 3ms/step - loss: 54685456.0000 - mae: 6102.0918\n",
            "Epoch 48/100\n",
            "4/4 [==============================] - 0s 4ms/step - loss: 54287224.0000 - mae: 6045.5669\n",
            "Epoch 49/100\n",
            "4/4 [==============================] - 0s 4ms/step - loss: 52426356.0000 - mae: 5874.4058\n",
            "Epoch 50/100\n",
            "4/4 [==============================] - 0s 4ms/step - loss: 66775588.0000 - mae: 6474.0396\n",
            "Epoch 51/100\n",
            "4/4 [==============================] - 0s 4ms/step - loss: 56998400.0000 - mae: 6121.7275\n",
            "Epoch 52/100\n",
            "4/4 [==============================] - 0s 4ms/step - loss: 50941892.0000 - mae: 6173.6182\n",
            "Epoch 53/100\n",
            "4/4 [==============================] - 0s 3ms/step - loss: 59191448.0000 - mae: 6270.3291\n",
            "Epoch 54/100\n",
            "4/4 [==============================] - 0s 3ms/step - loss: 48723480.0000 - mae: 5609.3174\n",
            "Epoch 55/100\n",
            "4/4 [==============================] - 0s 4ms/step - loss: 47793840.0000 - mae: 5992.2554\n",
            "Epoch 56/100\n",
            "4/4 [==============================] - 0s 4ms/step - loss: 49560344.0000 - mae: 5774.6890\n",
            "Epoch 57/100\n",
            "4/4 [==============================] - 0s 4ms/step - loss: 47472196.0000 - mae: 5648.1274\n",
            "Epoch 58/100\n",
            "4/4 [==============================] - 0s 3ms/step - loss: 49090064.0000 - mae: 5847.0596\n",
            "Epoch 59/100\n",
            "4/4 [==============================] - 0s 5ms/step - loss: 46118844.0000 - mae: 5573.2417\n",
            "Epoch 60/100\n",
            "4/4 [==============================] - 0s 4ms/step - loss: 47964212.0000 - mae: 5830.2646\n",
            "Epoch 61/100\n",
            "4/4 [==============================] - 0s 4ms/step - loss: 44073560.0000 - mae: 5454.4224\n",
            "Epoch 62/100\n",
            "4/4 [==============================] - 0s 4ms/step - loss: 44295336.0000 - mae: 5470.9419\n",
            "Epoch 63/100\n",
            "4/4 [==============================] - 0s 5ms/step - loss: 44869780.0000 - mae: 5654.6865\n",
            "Epoch 64/100\n",
            "4/4 [==============================] - 0s 4ms/step - loss: 47527196.0000 - mae: 5721.8408\n",
            "Epoch 65/100\n",
            "4/4 [==============================] - 0s 4ms/step - loss: 46608348.0000 - mae: 5381.3506\n",
            "Epoch 66/100\n",
            "4/4 [==============================] - 0s 4ms/step - loss: 44124716.0000 - mae: 5573.3428\n",
            "Epoch 67/100\n",
            "4/4 [==============================] - 0s 4ms/step - loss: 42244176.0000 - mae: 5349.7905\n",
            "Epoch 68/100\n",
            "4/4 [==============================] - 0s 4ms/step - loss: 44724156.0000 - mae: 5584.7510\n",
            "Epoch 69/100\n",
            "4/4 [==============================] - 0s 4ms/step - loss: 43601280.0000 - mae: 5566.7095\n",
            "Epoch 70/100\n",
            "4/4 [==============================] - 0s 4ms/step - loss: 43604404.0000 - mae: 5564.2603\n",
            "Epoch 71/100\n",
            "4/4 [==============================] - 0s 4ms/step - loss: 44371072.0000 - mae: 5237.1318\n",
            "Epoch 72/100\n",
            "4/4 [==============================] - 0s 4ms/step - loss: 43093968.0000 - mae: 5431.5933\n",
            "Epoch 73/100\n",
            "4/4 [==============================] - 0s 4ms/step - loss: 46379564.0000 - mae: 5521.5469\n",
            "Epoch 74/100\n",
            "4/4 [==============================] - 0s 4ms/step - loss: 42924312.0000 - mae: 5522.4946\n",
            "Epoch 75/100\n",
            "4/4 [==============================] - 0s 4ms/step - loss: 42790456.0000 - mae: 5094.0303\n",
            "Epoch 76/100\n",
            "4/4 [==============================] - 0s 4ms/step - loss: 41695396.0000 - mae: 5418.8569\n",
            "Epoch 77/100\n",
            "4/4 [==============================] - 0s 4ms/step - loss: 38933080.0000 - mae: 5015.9160\n",
            "Epoch 78/100\n",
            "4/4 [==============================] - 0s 4ms/step - loss: 39599696.0000 - mae: 5258.4873\n",
            "Epoch 79/100\n",
            "4/4 [==============================] - 0s 4ms/step - loss: 43853140.0000 - mae: 5467.8423\n",
            "Epoch 80/100\n",
            "4/4 [==============================] - 0s 4ms/step - loss: 40070408.0000 - mae: 5378.6230\n",
            "Epoch 81/100\n",
            "4/4 [==============================] - 0s 3ms/step - loss: 39883816.0000 - mae: 5358.0796\n",
            "Epoch 82/100\n",
            "4/4 [==============================] - 0s 4ms/step - loss: 38598456.0000 - mae: 5231.8208\n",
            "Epoch 83/100\n",
            "4/4 [==============================] - 0s 4ms/step - loss: 38369160.0000 - mae: 5039.2871\n",
            "Epoch 84/100\n",
            "4/4 [==============================] - 0s 3ms/step - loss: 41080700.0000 - mae: 5354.7524\n",
            "Epoch 85/100\n",
            "4/4 [==============================] - 0s 3ms/step - loss: 43591612.0000 - mae: 5265.8623\n",
            "Epoch 86/100\n",
            "4/4 [==============================] - 0s 3ms/step - loss: 42669312.0000 - mae: 5575.4902\n",
            "Epoch 87/100\n",
            "4/4 [==============================] - 0s 3ms/step - loss: 36706248.0000 - mae: 4809.6421\n",
            "Epoch 88/100\n",
            "4/4 [==============================] - 0s 4ms/step - loss: 38822200.0000 - mae: 5149.2412\n",
            "Epoch 89/100\n",
            "4/4 [==============================] - 0s 4ms/step - loss: 36787696.0000 - mae: 5002.3301\n",
            "Epoch 90/100\n",
            "4/4 [==============================] - 0s 4ms/step - loss: 40264624.0000 - mae: 5377.5947\n",
            "Epoch 91/100\n",
            "4/4 [==============================] - 0s 4ms/step - loss: 37098972.0000 - mae: 4888.0073\n",
            "Epoch 92/100\n",
            "4/4 [==============================] - 0s 3ms/step - loss: 37278856.0000 - mae: 4932.9189\n",
            "Epoch 93/100\n",
            "4/4 [==============================] - 0s 4ms/step - loss: 37699604.0000 - mae: 5244.1978\n",
            "Epoch 94/100\n",
            "4/4 [==============================] - 0s 4ms/step - loss: 40601488.0000 - mae: 5248.8608\n",
            "Epoch 95/100\n",
            "4/4 [==============================] - 0s 4ms/step - loss: 37376676.0000 - mae: 5045.1084\n",
            "Epoch 96/100\n",
            "4/4 [==============================] - 0s 4ms/step - loss: 41248776.0000 - mae: 5247.6860\n",
            "Epoch 97/100\n",
            "4/4 [==============================] - 0s 4ms/step - loss: 36745164.0000 - mae: 5220.8560\n",
            "Epoch 98/100\n",
            "4/4 [==============================] - 0s 4ms/step - loss: 38239852.0000 - mae: 5195.6406\n",
            "Epoch 99/100\n",
            "4/4 [==============================] - 0s 3ms/step - loss: 35570656.0000 - mae: 4972.1226\n",
            "Epoch 100/100\n",
            "4/4 [==============================] - 0s 4ms/step - loss: 39096520.0000 - mae: 5108.0786\n"
          ]
        }
      ]
    },
    {
      "cell_type": "code",
      "source": [
        "plt.scatter(x,y)\n",
        "plt.plot(x,prediction)\n",
        "plt.show()"
      ],
      "metadata": {
        "colab": {
          "base_uri": "https://localhost:8080/",
          "height": 265
        },
        "id": "pT9ZkG1aeIAV",
        "outputId": "7bfd4e9b-1347-4d67-986b-95f618a2466f"
      },
      "execution_count": 23,
      "outputs": [
        {
          "output_type": "display_data",
          "data": {
            "text/plain": [
              "<Figure size 432x288 with 1 Axes>"
            ],
            "image/png": "[encoded data removed]"
          },
          "metadata": {
            "needs_background": "light"
          }
        }
      ]
    },
    {
      "cell_type": "code",
      "source": [
        "model.save('Model_1.h5')"
      ],
      "metadata": {
        "id": "ocDia_Mkb5aA"
      },
      "execution_count": 21,
      "outputs": []
    },
    {
      "cell_type": "code",
      "source": [],
      "metadata": {
        "id": "IW_OVvEsdhZT"
      },
      "execution_count": null,
      "outputs": []
    }
  ]
}