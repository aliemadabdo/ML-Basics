{
  "nbformat": 4,
  "nbformat_minor": 0,
  "metadata": {
    "colab": {
      "provenance": [],
      "authorship_tag": "ABX9TyMxvWaytbH2S3xNlqMSyzQ1",
      "include_colab_link": true
    },
    "kernelspec": {
      "name": "python3",
      "display_name": "Python 3"
    },
    "language_info": {
      "name": "python"
    }
  },
  "cells": [
    {
      "cell_type": "markdown",
      "metadata": {
        "id": "view-in-github",
        "colab_type": "text"
      },
      "source": [
        "<a href=\"https://colab.research.google.com/github/aliemadabdo/ML-Basics/blob/main/Lab6_task-malti_fearture_LR_with_NN.ipynb\" target=\"_parent\"><img src=\"https://colab.research.google.com/assets/colab-badge.svg\" alt=\"Open In Colab\"/></a>"
      ]
    },
    {
      "cell_type": "code",
      "source": [
        "#Import the required modules, numpy for calculation, and Matplotlib for drawing\n",
        "import pandas as pd\n",
        "import numpy as np \n",
        "import matplotlib.pyplot as plt \n",
        "import csv\n",
        "from keras.layers import Dense\n",
        "from keras.models import Sequential\n",
        "# import sklearn\n",
        "from sklearn.model_selection import train_test_split\n"
      ],
      "metadata": {
        "id": "4uVgO9Xwjrz9"
      },
      "execution_count": 139,
      "outputs": []
    },
    {
      "cell_type": "code",
      "execution_count": 140,
      "metadata": {
        "id": "8pphhlY8hP74"
      },
      "outputs": [],
      "source": [
        "url = 'http://archive.ics.uci.edu/ml/machine-learning-databases/auto-mpg/auto-mpg.data'\n",
        "\n",
        "column_names = ['mpg', 'cylinders', 'displacement', 'horsepower', 'weight', 'acceleration', 'model year', 'origin', 'car name']\n",
        "\n",
        "raw_dataset = pd.read_csv(url, names=column_names,\n",
        "                          na_values='?', comment='\\t',\n",
        "                          sep=' ', skipinitialspace=True)\n",
        "raw_dataset.fillna(raw_dataset.mean(), inplace=True)"
      ]
    },
    {
      "cell_type": "code",
      "source": [
        "raw_dataset\n"
      ],
      "metadata": {
        "colab": {
          "base_uri": "https://localhost:8080/",
          "height": 424
        },
        "id": "MfvySiJahYZH",
        "outputId": "edc14afd-884d-4bb2-d9b0-11612d798a8c"
      },
      "execution_count": 141,
      "outputs": [
        {
          "output_type": "execute_result",
          "data": {
            "text/plain": [
              "      mpg  cylinders  displacement  horsepower  weight  acceleration  \\\n",
              "0    18.0          8         307.0       130.0  3504.0          12.0   \n",
              "1    15.0          8         350.0       165.0  3693.0          11.5   \n",
              "2    18.0          8         318.0       150.0  3436.0          11.0   \n",
              "3    16.0          8         304.0       150.0  3433.0          12.0   \n",
              "4    17.0          8         302.0       140.0  3449.0          10.5   \n",
              "..    ...        ...           ...         ...     ...           ...   \n",
              "393  27.0          4         140.0        86.0  2790.0          15.6   \n",
              "394  44.0          4          97.0        52.0  2130.0          24.6   \n",
              "395  32.0          4         135.0        84.0  2295.0          11.6   \n",
              "396  28.0          4         120.0        79.0  2625.0          18.6   \n",
              "397  31.0          4         119.0        82.0  2720.0          19.4   \n",
              "\n",
              "     model year  origin  car name  \n",
              "0            70       1       NaN  \n",
              "1            70       1       NaN  \n",
              "2            70       1       NaN  \n",
              "3            70       1       NaN  \n",
              "4            70       1       NaN  \n",
              "..          ...     ...       ...  \n",
              "393          82       1       NaN  \n",
              "394          82       2       NaN  \n",
              "395          82       1       NaN  \n",
              "396          82       1       NaN  \n",
              "397          82       1       NaN  \n",
              "\n",
              "[398 rows x 9 columns]"
            ],
            "text/html": [
              "\n",
              "  <div id=\"df-4cfdf03a-5c2d-431d-b2ff-118f407540af\">\n",
              "    <div class=\"colab-df-container\">\n",
              "      <div>\n",
              "<style scoped>\n",
              "    .dataframe tbody tr th:only-of-type {\n",
              "        vertical-align: middle;\n",
              "    }\n",
              "\n",
              "    .dataframe tbody tr th {\n",
              "        vertical-align: top;\n",
              "    }\n",
              "\n",
              "    .dataframe thead th {\n",
              "        text-align: right;\n",
              "    }\n",
              "</style>\n",
              "<table border=\"1\" class=\"dataframe\">\n",
              "  <thead>\n",
              "    <tr style=\"text-align: right;\">\n",
              "      <th></th>\n",
              "      <th>mpg</th>\n",
              "      <th>cylinders</th>\n",
              "      <th>displacement</th>\n",
              "      <th>horsepower</th>\n",
              "      <th>weight</th>\n",
              "      <th>acceleration</th>\n",
              "      <th>model year</th>\n",
              "      <th>origin</th>\n",
              "      <th>car name</th>\n",
              "    </tr>\n",
              "  </thead>\n",
              "  <tbody>\n",
              "    <tr>\n",
              "      <th>0</th>\n",
              "      <td>18.0</td>\n",
              "      <td>8</td>\n",
              "      <td>307.0</td>\n",
              "      <td>130.0</td>\n",
              "      <td>3504.0</td>\n",
              "      <td>12.0</td>\n",
              "      <td>70</td>\n",
              "      <td>1</td>\n",
              "      <td>NaN</td>\n",
              "    </tr>\n",
              "    <tr>\n",
              "      <th>1</th>\n",
              "      <td>15.0</td>\n",
              "      <td>8</td>\n",
              "      <td>350.0</td>\n",
              "      <td>165.0</td>\n",
              "      <td>3693.0</td>\n",
              "      <td>11.5</td>\n",
              "      <td>70</td>\n",
              "      <td>1</td>\n",
              "      <td>NaN</td>\n",
              "    </tr>\n",
              "    <tr>\n",
              "      <th>2</th>\n",
              "      <td>18.0</td>\n",
              "      <td>8</td>\n",
              "      <td>318.0</td>\n",
              "      <td>150.0</td>\n",
              "      <td>3436.0</td>\n",
              "      <td>11.0</td>\n",
              "      <td>70</td>\n",
              "      <td>1</td>\n",
              "      <td>NaN</td>\n",
              "    </tr>\n",
              "    <tr>\n",
              "      <th>3</th>\n",
              "      <td>16.0</td>\n",
              "      <td>8</td>\n",
              "      <td>304.0</td>\n",
              "      <td>150.0</td>\n",
              "      <td>3433.0</td>\n",
              "      <td>12.0</td>\n",
              "      <td>70</td>\n",
              "      <td>1</td>\n",
              "      <td>NaN</td>\n",
              "    </tr>\n",
              "    <tr>\n",
              "      <th>4</th>\n",
              "      <td>17.0</td>\n",
              "      <td>8</td>\n",
              "      <td>302.0</td>\n",
              "      <td>140.0</td>\n",
              "      <td>3449.0</td>\n",
              "      <td>10.5</td>\n",
              "      <td>70</td>\n",
              "      <td>1</td>\n",
              "      <td>NaN</td>\n",
              "    </tr>\n",
              "    <tr>\n",
              "      <th>...</th>\n",
              "      <td>...</td>\n",
              "      <td>...</td>\n",
              "      <td>...</td>\n",
              "      <td>...</td>\n",
              "      <td>...</td>\n",
              "      <td>...</td>\n",
              "      <td>...</td>\n",
              "      <td>...</td>\n",
              "      <td>...</td>\n",
              "    </tr>\n",
              "    <tr>\n",
              "      <th>393</th>\n",
              "      <td>27.0</td>\n",
              "      <td>4</td>\n",
              "      <td>140.0</td>\n",
              "      <td>86.0</td>\n",
              "      <td>2790.0</td>\n",
              "      <td>15.6</td>\n",
              "      <td>82</td>\n",
              "      <td>1</td>\n",
              "      <td>NaN</td>\n",
              "    </tr>\n",
              "    <tr>\n",
              "      <th>394</th>\n",
              "      <td>44.0</td>\n",
              "      <td>4</td>\n",
              "      <td>97.0</td>\n",
              "      <td>52.0</td>\n",
              "      <td>2130.0</td>\n",
              "      <td>24.6</td>\n",
              "      <td>82</td>\n",
              "      <td>2</td>\n",
              "      <td>NaN</td>\n",
              "    </tr>\n",
              "    <tr>\n",
              "      <th>395</th>\n",
              "      <td>32.0</td>\n",
              "      <td>4</td>\n",
              "      <td>135.0</td>\n",
              "      <td>84.0</td>\n",
              "      <td>2295.0</td>\n",
              "      <td>11.6</td>\n",
              "      <td>82</td>\n",
              "      <td>1</td>\n",
              "      <td>NaN</td>\n",
              "    </tr>\n",
              "    <tr>\n",
              "      <th>396</th>\n",
              "      <td>28.0</td>\n",
              "      <td>4</td>\n",
              "      <td>120.0</td>\n",
              "      <td>79.0</td>\n",
              "      <td>2625.0</td>\n",
              "      <td>18.6</td>\n",
              "      <td>82</td>\n",
              "      <td>1</td>\n",
              "      <td>NaN</td>\n",
              "    </tr>\n",
              "    <tr>\n",
              "      <th>397</th>\n",
              "      <td>31.0</td>\n",
              "      <td>4</td>\n",
              "      <td>119.0</td>\n",
              "      <td>82.0</td>\n",
              "      <td>2720.0</td>\n",
              "      <td>19.4</td>\n",
              "      <td>82</td>\n",
              "      <td>1</td>\n",
              "      <td>NaN</td>\n",
              "    </tr>\n",
              "  </tbody>\n",
              "</table>\n",
              "<p>398 rows × 9 columns</p>\n",
              "</div>\n",
              "      <button class=\"colab-df-convert\" onclick=\"convertToInteractive('df-4cfdf03a-5c2d-431d-b2ff-118f407540af')\"\n",
              "              title=\"Convert this dataframe to an interactive table.\"\n",
              "              style=\"display:none;\">\n",
              "        \n",
              "  <svg xmlns=\"http://www.w3.org/2000/svg\" height=\"24px\"viewBox=\"0 0 24 24\"\n",
              "       width=\"24px\">\n",
              "    <path d=\"M0 0h24v24H0V0z\" fill=\"none\"/>\n",
              "    <path d=\"M18.56 5.44l.94 2.06.94-2.06 2.06-.94-2.06-.94-.94-2.06-.94 2.06-2.06.94zm-11 1L8.5 8.5l.94-2.06 2.06-.94-2.06-.94L8.5 2.5l-.94 2.06-2.06.94zm10 10l.94 2.06.94-2.06 2.06-.94-2.06-.94-.94-2.06-.94 2.06-2.06.94z\"/><path d=\"M17.41 7.96l-1.37-1.37c-.4-.4-.92-.59-1.43-.59-.52 0-1.04.2-1.43.59L10.3 9.45l-7.72 7.72c-.78.78-.78 2.05 0 2.83L4 21.41c.39.39.9.59 1.41.59.51 0 1.02-.2 1.41-.59l7.78-7.78 2.81-2.81c.8-.78.8-2.07 0-2.86zM5.41 20L4 18.59l7.72-7.72 1.47 1.35L5.41 20z\"/>\n",
              "  </svg>\n",
              "      </button>\n",
              "      \n",
              "  <style>\n",
              "    .colab-df-container {\n",
              "      display:flex;\n",
              "      flex-wrap:wrap;\n",
              "      gap: 12px;\n",
              "    }\n",
              "\n",
              "    .colab-df-convert {\n",
              "      background-color: #E8F0FE;\n",
              "      border: none;\n",
              "      border-radius: 50%;\n",
              "      cursor: pointer;\n",
              "      display: none;\n",
              "      fill: #1967D2;\n",
              "      height: 32px;\n",
              "      padding: 0 0 0 0;\n",
              "      width: 32px;\n",
              "    }\n",
              "\n",
              "    .colab-df-convert:hover {\n",
              "      background-color: #E2EBFA;\n",
              "      box-shadow: 0px 1px 2px rgba(60, 64, 67, 0.3), 0px 1px 3px 1px rgba(60, 64, 67, 0.15);\n",
              "      fill: #174EA6;\n",
              "    }\n",
              "\n",
              "    [theme=dark] .colab-df-convert {\n",
              "      background-color: #3B4455;\n",
              "      fill: #D2E3FC;\n",
              "    }\n",
              "\n",
              "    [theme=dark] .colab-df-convert:hover {\n",
              "      background-color: #434B5C;\n",
              "      box-shadow: 0px 1px 3px 1px rgba(0, 0, 0, 0.15);\n",
              "      filter: drop-shadow(0px 1px 2px rgba(0, 0, 0, 0.3));\n",
              "      fill: #FFFFFF;\n",
              "    }\n",
              "  </style>\n",
              "\n",
              "      <script>\n",
              "        const buttonEl =\n",
              "          document.querySelector('#df-4cfdf03a-5c2d-431d-b2ff-118f407540af button.colab-df-convert');\n",
              "        buttonEl.style.display =\n",
              "          google.colab.kernel.accessAllowed ? 'block' : 'none';\n",
              "\n",
              "        async function convertToInteractive(key) {\n",
              "          const element = document.querySelector('#df-4cfdf03a-5c2d-431d-b2ff-118f407540af');\n",
              "          const dataTable =\n",
              "            await google.colab.kernel.invokeFunction('convertToInteractive',\n",
              "                                                     [key], {});\n",
              "          if (!dataTable) return;\n",
              "\n",
              "          const docLinkHtml = 'Like what you see? Visit the ' +\n",
              "            '<a target=\"_blank\" href=https://colab.research.google.com/notebooks/data_table.ipynb>data table notebook</a>'\n",
              "            + ' to learn more about interactive tables.';\n",
              "          element.innerHTML = '';\n",
              "          dataTable['output_type'] = 'display_data';\n",
              "          await google.colab.output.renderOutput(dataTable, element);\n",
              "          const docLink = document.createElement('div');\n",
              "          docLink.innerHTML = docLinkHtml;\n",
              "          element.appendChild(docLink);\n",
              "        }\n",
              "      </script>\n",
              "    </div>\n",
              "  </div>\n",
              "  "
            ]
          },
          "metadata": {},
          "execution_count": 141
        }
      ]
    },
    {
      "cell_type": "code",
      "source": [
        "x = raw_dataset.iloc[:, 1:8] # Select all rows except the last and first one\n",
        "y = raw_dataset.iloc[:, 0] # Select the first column\n",
        "x_train, x_test, y_train, y_test = train_test_split(x, y, test_size=0.2, random_state=0)\n"
      ],
      "metadata": {
        "id": "GUEb9_Zph0gt"
      },
      "execution_count": 142,
      "outputs": []
    },
    {
      "cell_type": "code",
      "source": [
        "plt.scatter(x['cylinders'],    y ,label='cylinders',    color='red')\n",
        "plt.scatter(x['displacement'], y ,label='displacement', color='green')\n",
        "plt.scatter(x['horsepower'],   y ,label='horsepower',   color='blue')\n",
        "plt.scatter(x['weight'],       y ,label='weight',       color='yellow')\n",
        "plt.scatter(x['acceleration'], y ,label='acceleration', color='black')\n",
        "plt.scatter(x['model year'],   y ,label='model year',   color='brown')\n",
        "plt.scatter(x['origin'],       y ,label='origin',       color='gray')\n",
        "\n",
        "plt.title('Fuel-efficient (orignal dataset)')\n",
        "plt.xlabel('features values')\n",
        "plt.ylabel('MPG (millie per gallon)')\n",
        "\n",
        "plt.legend()\n",
        "plt.show()\n"
      ],
      "metadata": {
        "colab": {
          "base_uri": "https://localhost:8080/",
          "height": 295
        },
        "id": "JtsPXWcIljVL",
        "outputId": "f3e57fe1-a3e9-4918-fb75-e4a57d9c2a40"
      },
      "execution_count": 143,
      "outputs": [
        {
          "output_type": "display_data",
          "data": {
            "text/plain": [
              "<Figure size 432x288 with 1 Axes>"
            ],
            "image/png": "[encoded data removed]"
          },
          "metadata": {
            "needs_background": "light"
          }
        }
      ]
    },
    {
      "cell_type": "code",
      "source": [
        "#Filltering (get the correlation between every input column (dimensions) and the output)\n",
        "# Manually (from graphs)\n",
        "\n",
        "plt.subplot(4,2,1)\n",
        "plt.scatter(x['cylinders'],    y ,label='cylinders',    color='red')\n",
        "plt.subplot(4,2,2)\n",
        "plt.scatter(x['displacement'], y ,label='displacement', color='green') #highly correlated\n",
        "plt.subplot(4,2,3)\n",
        "plt.scatter(x['horsepower'],   y ,label='horsepower',   color='blue') #highly correlated\n",
        "plt.subplot(4,2,4)\n",
        "plt.scatter(x['weight'],       y ,label='weight',       color='yellow') #highly correlated\n",
        "plt.subplot(4,2,5)\n",
        "plt.scatter(x['acceleration'], y ,label='acceleration', color='black')\n",
        "plt.subplot(4,2,6)\n",
        "plt.scatter(x['model year'],   y ,label='model year',   color='brown')\n",
        "plt.subplot(4,2,7)\n",
        "plt.scatter(x['origin'],       y ,label='origin',       color='gray')\n",
        "plt.subplot(4,2,8)\n",
        "plt.scatter([1,2,3],[3,2,1])\n",
        "plt.xlabel('features values')\n",
        "plt.ylabel('MPG (millie per gallon)')\n"
      ],
      "metadata": {
        "colab": {
          "base_uri": "https://localhost:8080/",
          "height": 299
        },
        "id": "nnQjHu5VNlyt",
        "outputId": "adb803dc-06d1-4c88-a00c-8f92a91dbd1c"
      },
      "execution_count": 144,
      "outputs": [
        {
          "output_type": "execute_result",
          "data": {
            "text/plain": [
              "Text(0, 0.5, 'MPG (millie per gallon)')"
            ]
          },
          "metadata": {},
          "execution_count": 144
        },
        {
          "output_type": "display_data",
          "data": {
            "text/plain": [
              "<Figure size 432x288 with 8 Axes>"
            ],
            "image/png": "[encoded data removed]"
          },
          "metadata": {
            "needs_background": "light"
          }
        }
      ]
    },
    {
      "cell_type": "code",
      "source": [
        "#Filltering (get the correlation between every input column (dimensions) and the output)\n",
        "# using NumPy corrcoef(col,output)[0,1] as correlation matrix is 2*2 matrix [[1 r][r 1]]\n",
        "\n",
        "#Power horse column r was nan so we checked on it using df.isan().sum() function\n",
        "# and there were 6 missing values from power horse column so we fill them first \n",
        "# using df.fillna(df.mean(), inplace=True) \n",
        "print(raw_dataset.isna().sum())\n",
        "raw_dataset.fillna(raw_dataset.mean(), inplace=True)\n",
        "print(raw_dataset.isna().sum())\n",
        "\n",
        "acceleration_correlation = abs(np.corrcoef(x['acceleration'], y)[0, 1])\n",
        "cylinders_correlation    = abs(np.corrcoef(x['cylinders'],    y)[0, 1])\n",
        "displacement_correlation = abs(np.corrcoef(x['displacement'], y)[0, 1])\n",
        "horsepower_correlation   = abs(np.corrcoef(x['horsepower'],   y)[0, 1])\n",
        "modelYear_correlation    = abs(np.corrcoef(x['model year'],   y)[0, 1])\n",
        "origin_correlation       = abs(np.corrcoef(x['origin'],       y)[0, 1])\n",
        "weight_correlation       = abs(np.corrcoef(x['weight'],       y)[0, 1])\n",
        "\n",
        "correlationDict = {'acceleration':acceleration_correlation,\n",
        "                   'cylinders'   :cylinders_correlation,\n",
        "                   'origin'      :origin_correlation,\n",
        "                   'model year'  :modelYear_correlation,\n",
        "                   'displacement':displacement_correlation,\n",
        "                   'weight'      :weight_correlation,\n",
        "                   'horsepower'  :horsepower_correlation}\n",
        "                   \n",
        "sortedCoDict = sorted(correlationDict.items(), key=lambda x: x[1])\n",
        "print('\\nsorted correlation coeffitions : ')\n",
        "sortedCoDict\n"
      ],
      "metadata": {
        "colab": {
          "base_uri": "https://localhost:8080/"
        },
        "id": "_e4TjLzNQ3r5",
        "outputId": "e1ea4537-1fac-4d58-fc48-20acd645d751"
      },
      "execution_count": 145,
      "outputs": [
        {
          "output_type": "stream",
          "name": "stdout",
          "text": [
            "mpg               0\n",
            "cylinders         0\n",
            "displacement      0\n",
            "horsepower        0\n",
            "weight            0\n",
            "acceleration      0\n",
            "model year        0\n",
            "origin            0\n",
            "car name        398\n",
            "dtype: int64\n",
            "mpg               0\n",
            "cylinders         0\n",
            "displacement      0\n",
            "horsepower        0\n",
            "weight            0\n",
            "acceleration      0\n",
            "model year        0\n",
            "origin            0\n",
            "car name        398\n",
            "dtype: int64\n",
            "\n",
            "sorted correlation coeffitions : \n"
          ]
        },
        {
          "output_type": "execute_result",
          "data": {
            "text/plain": [
              "[('acceleration', 0.42028891210165065),\n",
              " ('origin', 0.5634503597738428),\n",
              " ('model year', 0.5792671330833096),\n",
              " ('horsepower', 0.7714371350025522),\n",
              " ('cylinders', 0.7753962854205543),\n",
              " ('displacement', 0.8042028248058979),\n",
              " ('weight', 0.8317409332443352)]"
            ]
          },
          "metadata": {},
          "execution_count": 145
        }
      ]
    },
    {
      "cell_type": "code",
      "source": [
        "#from previous output we will only use wight, dispalcement and cylinders\n",
        "# not horse power just for change\n",
        "x = raw_dataset.loc[:,['weight','displacement','cylinders']] # Select all rows except the last and first one"
      ],
      "metadata": {
        "id": "1VZl3GVHmPLm"
      },
      "execution_count": 146,
      "outputs": []
    },
    {
      "cell_type": "code",
      "source": [
        "print(x)\n",
        "print(y)"
      ],
      "metadata": {
        "colab": {
          "base_uri": "https://localhost:8080/"
        },
        "id": "H4qSeZiflrNL",
        "outputId": "d60f4991-c8cd-4f7b-f02d-fcd1a768f7d6"
      },
      "execution_count": 147,
      "outputs": [
        {
          "output_type": "stream",
          "name": "stdout",
          "text": [
            "     weight  displacement  cylinders\n",
            "0    3504.0         307.0          8\n",
            "1    3693.0         350.0          8\n",
            "2    3436.0         318.0          8\n",
            "3    3433.0         304.0          8\n",
            "4    3449.0         302.0          8\n",
            "..      ...           ...        ...\n",
            "393  2790.0         140.0          4\n",
            "394  2130.0          97.0          4\n",
            "395  2295.0         135.0          4\n",
            "396  2625.0         120.0          4\n",
            "397  2720.0         119.0          4\n",
            "\n",
            "[398 rows x 3 columns]\n",
            "0      18.0\n",
            "1      15.0\n",
            "2      18.0\n",
            "3      16.0\n",
            "4      17.0\n",
            "       ... \n",
            "393    27.0\n",
            "394    44.0\n",
            "395    32.0\n",
            "396    28.0\n",
            "397    31.0\n",
            "Name: mpg, Length: 398, dtype: float64\n"
          ]
        }
      ]
    },
    {
      "cell_type": "code",
      "source": [
        "# Data normallization\n",
        "#weight\tdisplacement\tcylinders\n",
        "y = y/max(y)\n",
        "x['cylinders'] = x['cylinders']/max(x['cylinders'])\n",
        "x['weight'] = x['weight']/max(x['weight'])\n",
        "x['displacement'] = x['displacement']/max(x['displacement'])"
      ],
      "metadata": {
        "id": "q2zDQHGfl8Gq"
      },
      "execution_count": 148,
      "outputs": []
    },
    {
      "cell_type": "code",
      "source": [
        "x_train, x_test, y_train, y_test = train_test_split(x, y, test_size=0.2, random_state=0)"
      ],
      "metadata": {
        "id": "Q6VwMwZpxg6n"
      },
      "execution_count": 149,
      "outputs": []
    },
    {
      "cell_type": "code",
      "source": [
        "print(x)\n",
        "print(y)"
      ],
      "metadata": {
        "colab": {
          "base_uri": "https://localhost:8080/"
        },
        "id": "UHkusJINmIOj",
        "outputId": "c0e84c7c-018d-4ced-9bf1-f6680100abe0"
      },
      "execution_count": 150,
      "outputs": [
        {
          "output_type": "stream",
          "name": "stdout",
          "text": [
            "       weight  displacement  cylinders\n",
            "0    0.681712      0.674725        1.0\n",
            "1    0.718482      0.769231        1.0\n",
            "2    0.668482      0.698901        1.0\n",
            "3    0.667899      0.668132        1.0\n",
            "4    0.671012      0.663736        1.0\n",
            "..        ...           ...        ...\n",
            "393  0.542802      0.307692        0.5\n",
            "394  0.414397      0.213187        0.5\n",
            "395  0.446498      0.296703        0.5\n",
            "396  0.510700      0.263736        0.5\n",
            "397  0.529183      0.261538        0.5\n",
            "\n",
            "[398 rows x 3 columns]\n",
            "0      0.386266\n",
            "1      0.321888\n",
            "2      0.386266\n",
            "3      0.343348\n",
            "4      0.364807\n",
            "         ...   \n",
            "393    0.579399\n",
            "394    0.944206\n",
            "395    0.686695\n",
            "396    0.600858\n",
            "397    0.665236\n",
            "Name: mpg, Length: 398, dtype: float64\n"
          ]
        }
      ]
    },
    {
      "cell_type": "code",
      "source": [
        "plt.subplot(2,2,1)\n",
        "plt.scatter(x_train['cylinders'],    y_train ,label='cylinders',    color='red')\n",
        "plt.scatter(x_train['displacement'], y_train ,label='displacement', color='green') #highly correlated\n",
        "plt.scatter(x_train['weight'],       y_train ,label='weight',       color='yellow') #highly correlated\n",
        "plt.legend()\n",
        "\n",
        "plt.subplot(2,2,2)\n",
        "plt.scatter(x_train['cylinders'],    y_train , color='red')\n",
        "plt.subplot(2,2,3)\n",
        "plt.scatter(x_train['displacement'], y_train , color='green') #highly correlated\n",
        "plt.subplot(2,2,4)\n",
        "plt.scatter(x_train['weight'],       y_train , color='yellow') #highly correlated\n",
        "\n",
        "# plt.xlabel('features values')\n",
        "# plt.ylabel('MPG (millie per gallon)')\n",
        "plt.show()"
      ],
      "metadata": {
        "colab": {
          "base_uri": "https://localhost:8080/",
          "height": 265
        },
        "id": "dQQbzC7AmkFk",
        "outputId": "f67beb91-708b-471d-cdb7-a4f9ff692cf1"
      },
      "execution_count": 151,
      "outputs": [
        {
          "output_type": "display_data",
          "data": {
            "text/plain": [
              "<Figure size 432x288 with 4 Axes>"
            ],
            "image/png": "[encoded data removed]"
          },
          "metadata": {
            "needs_background": "light"
          }
        }
      ]
    },
    {
      "cell_type": "code",
      "source": [
        "#The basic linear regression model is wx+ b, and since this is a two-dimensional space, the model is ax+ b\n",
        "def model(a0,a1,a2, b, x_train): \n",
        "  return a0*x_train['cylinders'] + a1*x_train['displacement'] + a2*x_train['weight'] + b\n",
        "\n",
        "#The most commonly used loss function of linear regression model is the loss function of mean variance difference \n",
        "def loss_function(a0,a1,a2, b, x_train, y_train): \n",
        "  num = len(x_train['cylinders']) \n",
        "  #print(f\"befor model fn {a}\") \n",
        "  prediction=model(a0,a1,a2,b,x_train) \n",
        "  #print(f\"after model fn {a}\") \n",
        "  return (0.5/num) * (np.square(prediction-y_train)).sum()\n",
        "#The optimization function mainly USES partial derivatives to update two parameters a and b \n",
        "\n",
        "def optimize(a0,a1,a2,b,x_train,y_train): \n",
        "  num = len(x['cylinders']) \n",
        "  prediction = model(a0,a1,a2,b,x_train) \n",
        "  #Update the values of A and B by finding the partial derivatives of the loss function on a and b \n",
        "  da0 = (1.0/num) * ((prediction -y_train)*x_train['cylinders']).sum() \n",
        "  da1 = (1.0/num) * ((prediction -y_train)*x_train['displacement']).sum() \n",
        "  da2 = (1.0/num) * ((prediction -y_train)*x_train['weight']).sum() \n",
        "  db = (1.0/num) * ((prediction -y_train).sum())\n",
        "  plt.show()\n",
        "  #print(f\"befor equation fn {a}\") \n",
        "  a0 = a0 -Lr*da0\n",
        "  a1 = a1 -Lr*da1\n",
        "  a2 = a2 -Lr*da2 \n",
        "  #print(f\"after equation fn {a}\") \n",
        "  b = b -Lr*db \n",
        "  return a0,a1,a2, b\n",
        "\n",
        "#iterated function, return a and b \n",
        "def iterate(a0,a1,a2,b,x_train,y_train,times): \n",
        "  for i in range(0,times):\n",
        "    a0,a1,a2,b = optimize(a0,a1,a2,b,x_train,y_train)\n",
        "  return a0,a1,a2, b "
      ],
      "metadata": {
        "id": "y4VSFLRtssuI"
      },
      "execution_count": 152,
      "outputs": []
    },
    {
      "cell_type": "code",
      "source": [
        "\n",
        "#Initialize parameters and display \n",
        "a0 = np.random.rand(1)\n",
        "a1 = np.random.rand(1)\n",
        "a2 = np.random.rand(1)\n",
        "\n",
        "#print(a) \n",
        "b = np.random.rand(1) \n",
        "#print(b) \n",
        "Lr = 0.01\n",
        "\n",
        "a0,a1,a2,b = iterate(a0,a1,a2,b,x_train,y_train,10000) \n",
        "prediction=model(a0,a1,a2,b,x_train) \n",
        "loss = loss_function(a0,a1,a2, b, x_train, y_train) \n"
      ],
      "metadata": {
        "id": "N_NrQKsEsp2O"
      },
      "execution_count": 153,
      "outputs": []
    },
    {
      "cell_type": "code",
      "source": [
        "model = Sequential()\n",
        "model.add(Dense(1, input_dim=3,activation='linear'))\n",
        "# 1 --> nimber of nerons \n",
        "\n",
        "model.compile(loss='mse',optimizer='sgd',metrics='mae') \n",
        "# sgd : stocatic gradiant \n",
        "model.summary()"
      ],
      "metadata": {
        "colab": {
          "base_uri": "https://localhost:8080/"
        },
        "id": "Giu5-fXrnbtM",
        "outputId": "2e349d40-779f-4d31-a16d-2a3cfd341922"
      },
      "execution_count": 154,
      "outputs": [
        {
          "output_type": "stream",
          "name": "stdout",
          "text": [
            "Model: \"sequential_7\"\n",
            "_________________________________________________________________\n",
            " Layer (type)                Output Shape              Param #   \n",
            "=================================================================\n",
            " dense_7 (Dense)             (None, 1)                 4         \n",
            "                                                                 \n",
            "=================================================================\n",
            "Total params: 4\n",
            "Trainable params: 4\n",
            "Non-trainable params: 0\n",
            "_________________________________________________________________\n"
          ]
        }
      ]
    },
    {
      "cell_type": "code",
      "source": [
        "result = model.fit(x_train,y_train,batch_size=8,epochs=100,verbose=1) \n",
        "# epoch = itirations on data\n",
        "\n",
        "# defult batch size = 32 ================================== mini batch\n",
        "# output 4/4 which means update done 4 times (30/8) ======= mini batch\n"
      ],
      "metadata": {
        "colab": {
          "base_uri": "https://localhost:8080/"
        },
        "id": "nngJT0ayqDiC",
        "outputId": "9ed3be84-eb17-4ab9-87fb-7121829d21c1"
      },
      "execution_count": 155,
      "outputs": [
        {
          "output_type": "stream",
          "name": "stdout",
          "text": [
            "Epoch 1/100\n",
            "40/40 [==============================] - 0s 1ms/step - loss: 0.1184 - mae: 0.2795\n",
            "Epoch 2/100\n",
            "40/40 [==============================] - 0s 1ms/step - loss: 0.0806 - mae: 0.2431\n",
            "Epoch 3/100\n",
            "40/40 [==============================] - 0s 2ms/step - loss: 0.0731 - mae: 0.2296\n",
            "Epoch 4/100\n",
            "40/40 [==============================] - 0s 2ms/step - loss: 0.0676 - mae: 0.2196\n",
            "Epoch 5/100\n",
            "40/40 [==============================] - 0s 1ms/step - loss: 0.0625 - mae: 0.2103\n",
            "Epoch 6/100\n",
            "40/40 [==============================] - 0s 2ms/step - loss: 0.0581 - mae: 0.2027\n",
            "Epoch 7/100\n",
            "40/40 [==============================] - 0s 1ms/step - loss: 0.0540 - mae: 0.1936\n",
            "Epoch 8/100\n",
            "40/40 [==============================] - 0s 2ms/step - loss: 0.0502 - mae: 0.1865\n",
            "Epoch 9/100\n",
            "40/40 [==============================] - 0s 1ms/step - loss: 0.0470 - mae: 0.1800\n",
            "Epoch 10/100\n",
            "40/40 [==============================] - 0s 2ms/step - loss: 0.0439 - mae: 0.1728\n",
            "Epoch 11/100\n",
            "40/40 [==============================] - 0s 1ms/step - loss: 0.0411 - mae: 0.1676\n",
            "Epoch 12/100\n",
            "40/40 [==============================] - 0s 1ms/step - loss: 0.0386 - mae: 0.1610\n",
            "Epoch 13/100\n",
            "40/40 [==============================] - 0s 1ms/step - loss: 0.0363 - mae: 0.1555\n",
            "Epoch 14/100\n",
            "40/40 [==============================] - 0s 1ms/step - loss: 0.0342 - mae: 0.1500\n",
            "Epoch 15/100\n",
            "40/40 [==============================] - 0s 2ms/step - loss: 0.0324 - mae: 0.1459\n",
            "Epoch 16/100\n",
            "40/40 [==============================] - 0s 1ms/step - loss: 0.0307 - mae: 0.1412\n",
            "Epoch 17/100\n",
            "40/40 [==============================] - 0s 2ms/step - loss: 0.0292 - mae: 0.1368\n",
            "Epoch 18/100\n",
            "40/40 [==============================] - 0s 1ms/step - loss: 0.0278 - mae: 0.1329\n",
            "Epoch 19/100\n",
            "40/40 [==============================] - 0s 2ms/step - loss: 0.0265 - mae: 0.1294\n",
            "Epoch 20/100\n",
            "40/40 [==============================] - 0s 2ms/step - loss: 0.0254 - mae: 0.1262\n",
            "Epoch 21/100\n",
            "40/40 [==============================] - 0s 1ms/step - loss: 0.0243 - mae: 0.1226\n",
            "Epoch 22/100\n",
            "40/40 [==============================] - 0s 1ms/step - loss: 0.0234 - mae: 0.1205\n",
            "Epoch 23/100\n",
            "40/40 [==============================] - 0s 2ms/step - loss: 0.0226 - mae: 0.1184\n",
            "Epoch 24/100\n",
            "40/40 [==============================] - 0s 2ms/step - loss: 0.0218 - mae: 0.1152\n",
            "Epoch 25/100\n",
            "40/40 [==============================] - 0s 1ms/step - loss: 0.0211 - mae: 0.1135\n",
            "Epoch 26/100\n",
            "40/40 [==============================] - 0s 1ms/step - loss: 0.0205 - mae: 0.1111\n",
            "Epoch 27/100\n",
            "40/40 [==============================] - 0s 1ms/step - loss: 0.0199 - mae: 0.1091\n",
            "Epoch 28/100\n",
            "40/40 [==============================] - 0s 1ms/step - loss: 0.0194 - mae: 0.1074\n",
            "Epoch 29/100\n",
            "40/40 [==============================] - 0s 2ms/step - loss: 0.0189 - mae: 0.1063\n",
            "Epoch 30/100\n",
            "40/40 [==============================] - 0s 1ms/step - loss: 0.0184 - mae: 0.1046\n",
            "Epoch 31/100\n",
            "40/40 [==============================] - 0s 1ms/step - loss: 0.0180 - mae: 0.1026\n",
            "Epoch 32/100\n",
            "40/40 [==============================] - 0s 2ms/step - loss: 0.0177 - mae: 0.1017\n",
            "Epoch 33/100\n",
            "40/40 [==============================] - 0s 1ms/step - loss: 0.0173 - mae: 0.1009\n",
            "Epoch 34/100\n",
            "40/40 [==============================] - 0s 1ms/step - loss: 0.0171 - mae: 0.0991\n",
            "Epoch 35/100\n",
            "40/40 [==============================] - 0s 2ms/step - loss: 0.0168 - mae: 0.0984\n",
            "Epoch 36/100\n",
            "40/40 [==============================] - 0s 1ms/step - loss: 0.0165 - mae: 0.0974\n",
            "Epoch 37/100\n",
            "40/40 [==============================] - 0s 2ms/step - loss: 0.0163 - mae: 0.0963\n",
            "Epoch 38/100\n",
            "40/40 [==============================] - 0s 1ms/step - loss: 0.0161 - mae: 0.0958\n",
            "Epoch 39/100\n",
            "40/40 [==============================] - 0s 2ms/step - loss: 0.0158 - mae: 0.0956\n",
            "Epoch 40/100\n",
            "40/40 [==============================] - 0s 2ms/step - loss: 0.0157 - mae: 0.0941\n",
            "Epoch 41/100\n",
            "40/40 [==============================] - 0s 2ms/step - loss: 0.0155 - mae: 0.0939\n",
            "Epoch 42/100\n",
            "40/40 [==============================] - 0s 2ms/step - loss: 0.0154 - mae: 0.0935\n",
            "Epoch 43/100\n",
            "40/40 [==============================] - 0s 1ms/step - loss: 0.0152 - mae: 0.0927\n",
            "Epoch 44/100\n",
            "40/40 [==============================] - 0s 1ms/step - loss: 0.0151 - mae: 0.0930\n",
            "Epoch 45/100\n",
            "40/40 [==============================] - 0s 2ms/step - loss: 0.0150 - mae: 0.0920\n",
            "Epoch 46/100\n",
            "40/40 [==============================] - 0s 2ms/step - loss: 0.0149 - mae: 0.0920\n",
            "Epoch 47/100\n",
            "40/40 [==============================] - 0s 1ms/step - loss: 0.0148 - mae: 0.0917\n",
            "Epoch 48/100\n",
            "40/40 [==============================] - 0s 1ms/step - loss: 0.0147 - mae: 0.0913\n",
            "Epoch 49/100\n",
            "40/40 [==============================] - 0s 2ms/step - loss: 0.0146 - mae: 0.0911\n",
            "Epoch 50/100\n",
            "40/40 [==============================] - 0s 2ms/step - loss: 0.0145 - mae: 0.0905\n",
            "Epoch 51/100\n",
            "40/40 [==============================] - 0s 1ms/step - loss: 0.0145 - mae: 0.0908\n",
            "Epoch 52/100\n",
            "40/40 [==============================] - 0s 1ms/step - loss: 0.0145 - mae: 0.0906\n",
            "Epoch 53/100\n",
            "40/40 [==============================] - 0s 1ms/step - loss: 0.0144 - mae: 0.0900\n",
            "Epoch 54/100\n",
            "40/40 [==============================] - 0s 2ms/step - loss: 0.0143 - mae: 0.0901\n",
            "Epoch 55/100\n",
            "40/40 [==============================] - 0s 2ms/step - loss: 0.0142 - mae: 0.0893\n",
            "Epoch 56/100\n",
            "40/40 [==============================] - 0s 1ms/step - loss: 0.0142 - mae: 0.0899\n",
            "Epoch 57/100\n",
            "40/40 [==============================] - 0s 1ms/step - loss: 0.0141 - mae: 0.0895\n",
            "Epoch 58/100\n",
            "40/40 [==============================] - 0s 1ms/step - loss: 0.0141 - mae: 0.0893\n",
            "Epoch 59/100\n",
            "40/40 [==============================] - 0s 1ms/step - loss: 0.0140 - mae: 0.0890\n",
            "Epoch 60/100\n",
            "40/40 [==============================] - 0s 2ms/step - loss: 0.0140 - mae: 0.0891\n",
            "Epoch 61/100\n",
            "40/40 [==============================] - 0s 2ms/step - loss: 0.0139 - mae: 0.0886\n",
            "Epoch 62/100\n",
            "40/40 [==============================] - 0s 1ms/step - loss: 0.0139 - mae: 0.0889\n",
            "Epoch 63/100\n",
            "40/40 [==============================] - 0s 2ms/step - loss: 0.0139 - mae: 0.0885\n",
            "Epoch 64/100\n",
            "40/40 [==============================] - 0s 2ms/step - loss: 0.0139 - mae: 0.0885\n",
            "Epoch 65/100\n",
            "40/40 [==============================] - 0s 1ms/step - loss: 0.0138 - mae: 0.0886\n",
            "Epoch 66/100\n",
            "40/40 [==============================] - 0s 1ms/step - loss: 0.0138 - mae: 0.0881\n",
            "Epoch 67/100\n",
            "40/40 [==============================] - 0s 1ms/step - loss: 0.0137 - mae: 0.0878\n",
            "Epoch 68/100\n",
            "40/40 [==============================] - 0s 2ms/step - loss: 0.0138 - mae: 0.0884\n",
            "Epoch 69/100\n",
            "40/40 [==============================] - 0s 2ms/step - loss: 0.0137 - mae: 0.0881\n",
            "Epoch 70/100\n",
            "40/40 [==============================] - 0s 2ms/step - loss: 0.0137 - mae: 0.0879\n",
            "Epoch 71/100\n",
            "40/40 [==============================] - 0s 1ms/step - loss: 0.0136 - mae: 0.0877\n",
            "Epoch 72/100\n",
            "40/40 [==============================] - 0s 1ms/step - loss: 0.0136 - mae: 0.0878\n",
            "Epoch 73/100\n",
            "40/40 [==============================] - 0s 1ms/step - loss: 0.0136 - mae: 0.0878\n",
            "Epoch 74/100\n",
            "40/40 [==============================] - 0s 2ms/step - loss: 0.0136 - mae: 0.0876\n",
            "Epoch 75/100\n",
            "40/40 [==============================] - 0s 2ms/step - loss: 0.0135 - mae: 0.0873\n",
            "Epoch 76/100\n",
            "40/40 [==============================] - 0s 2ms/step - loss: 0.0135 - mae: 0.0873\n",
            "Epoch 77/100\n",
            "40/40 [==============================] - 0s 2ms/step - loss: 0.0135 - mae: 0.0875\n",
            "Epoch 78/100\n",
            "40/40 [==============================] - 0s 2ms/step - loss: 0.0135 - mae: 0.0872\n",
            "Epoch 79/100\n",
            "40/40 [==============================] - 0s 2ms/step - loss: 0.0134 - mae: 0.0872\n",
            "Epoch 80/100\n",
            "40/40 [==============================] - 0s 2ms/step - loss: 0.0134 - mae: 0.0867\n",
            "Epoch 81/100\n",
            "40/40 [==============================] - 0s 1ms/step - loss: 0.0134 - mae: 0.0873\n",
            "Epoch 82/100\n",
            "40/40 [==============================] - 0s 1ms/step - loss: 0.0134 - mae: 0.0865\n",
            "Epoch 83/100\n",
            "40/40 [==============================] - 0s 2ms/step - loss: 0.0134 - mae: 0.0868\n",
            "Epoch 84/100\n",
            "40/40 [==============================] - 0s 2ms/step - loss: 0.0133 - mae: 0.0868\n",
            "Epoch 85/100\n",
            "40/40 [==============================] - 0s 2ms/step - loss: 0.0133 - mae: 0.0868\n",
            "Epoch 86/100\n",
            "40/40 [==============================] - 0s 2ms/step - loss: 0.0133 - mae: 0.0864\n",
            "Epoch 87/100\n",
            "40/40 [==============================] - 0s 1ms/step - loss: 0.0132 - mae: 0.0863\n",
            "Epoch 88/100\n",
            "40/40 [==============================] - 0s 1ms/step - loss: 0.0133 - mae: 0.0865\n",
            "Epoch 89/100\n",
            "40/40 [==============================] - 0s 2ms/step - loss: 0.0132 - mae: 0.0866\n",
            "Epoch 90/100\n",
            "40/40 [==============================] - 0s 1ms/step - loss: 0.0132 - mae: 0.0864\n",
            "Epoch 91/100\n",
            "40/40 [==============================] - 0s 1ms/step - loss: 0.0132 - mae: 0.0862\n",
            "Epoch 92/100\n",
            "40/40 [==============================] - 0s 2ms/step - loss: 0.0132 - mae: 0.0859\n",
            "Epoch 93/100\n",
            "40/40 [==============================] - 0s 2ms/step - loss: 0.0131 - mae: 0.0858\n",
            "Epoch 94/100\n",
            "40/40 [==============================] - 0s 2ms/step - loss: 0.0131 - mae: 0.0865\n",
            "Epoch 95/100\n",
            "40/40 [==============================] - 0s 2ms/step - loss: 0.0131 - mae: 0.0860\n",
            "Epoch 96/100\n",
            "40/40 [==============================] - 0s 2ms/step - loss: 0.0131 - mae: 0.0859\n",
            "Epoch 97/100\n",
            "40/40 [==============================] - 0s 2ms/step - loss: 0.0131 - mae: 0.0858\n",
            "Epoch 98/100\n",
            "40/40 [==============================] - 0s 1ms/step - loss: 0.0131 - mae: 0.0857\n",
            "Epoch 99/100\n",
            "40/40 [==============================] - 0s 2ms/step - loss: 0.0131 - mae: 0.0858\n",
            "Epoch 100/100\n",
            "40/40 [==============================] - 0s 2ms/step - loss: 0.0130 - mae: 0.0855\n"
          ]
        }
      ]
    },
    {
      "cell_type": "code",
      "source": [
        "\n",
        "\n",
        "plt.scatter(x_train['weight'],y_train)\n",
        "plt.plot(x_train['weight'],prediction)\n",
        "plt.title('weight')\n",
        "plt.show()\n",
        "plt.scatter(x_train['displacement'],y_train)\n",
        "plt.plot(x_train['displacement'],prediction)\n",
        "plt.title('displacement')\n",
        "plt.show()\n",
        "plt.scatter(x_train['cylinders'],y_train)\n",
        "plt.plot(x_train['cylinders'],prediction)\n",
        "plt.title('cylinders')\n",
        "\n",
        "plt.show()\n",
        "\n"
      ],
      "metadata": {
        "colab": {
          "base_uri": "https://localhost:8080/",
          "height": 809
        },
        "id": "Zd11fxRQqIlm",
        "outputId": "7d276a42-e34d-4244-9673-501abfd7c791"
      },
      "execution_count": 159,
      "outputs": [
        {
          "output_type": "display_data",
          "data": {
            "text/plain": [
              "<Figure size 432x288 with 1 Axes>"
            ],
            "image/png": "[encoded data removed]"
          },
          "metadata": {
            "needs_background": "light"
          }
        },
        {
          "output_type": "display_data",
          "data": {
            "text/plain": [
              "<Figure size 432x288 with 1 Axes>"
            ],
            "image/png": "[encoded data removed]"
          },
          "metadata": {
            "needs_background": "light"
          }
        },
        {
          "output_type": "display_data",
          "data": {
            "text/plain": [
              "<Figure size 432x288 with 1 Axes>"
            ],
            "image/png": "[encoded data removed]"
          },
          "metadata": {
            "needs_background": "light"
          }
        }
      ]
    },
    {
      "cell_type": "code",
      "source": [
        "print(prediction)\n",
        "print(y_train)"
      ],
      "metadata": {
        "colab": {
          "base_uri": "https://localhost:8080/"
        },
        "id": "ynUXz9SYqS59",
        "outputId": "90cdfe75-e2af-43fd-897a-636e31b138a6"
      },
      "execution_count": 157,
      "outputs": [
        {
          "output_type": "stream",
          "name": "stdout",
          "text": [
            "64     0.344562\n",
            "55     0.618319\n",
            "317    0.627798\n",
            "102    0.621425\n",
            "358    0.605701\n",
            "         ...   \n",
            "323    0.556799\n",
            "192    0.428359\n",
            "117    0.662156\n",
            "47     0.426458\n",
            "172    0.639103\n",
            "Length: 318, dtype: float64\n",
            "64     0.321888\n",
            "55     0.579399\n",
            "317    0.736052\n",
            "102    0.557940\n",
            "358    0.678112\n",
            "         ...   \n",
            "323    0.598712\n",
            "192    0.472103\n",
            "117    0.622318\n",
            "47     0.407725\n",
            "172    0.536481\n",
            "Name: mpg, Length: 318, dtype: float64\n"
          ]
        }
      ]
    },
    {
      "cell_type": "code",
      "source": [
        "#try to plot error graph"
      ],
      "metadata": {
        "id": "z1bhnxbfvU4y"
      },
      "execution_count": 157,
      "outputs": []
    }
  ]
}