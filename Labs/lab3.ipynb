{
  "nbformat": 4,
  "nbformat_minor": 0,
  "metadata": {
    "colab": {
      "provenance": [],
      "authorship_tag": "ABX9TyPovHjbAQzih553KGGXeWz7",
      "include_colab_link": true
    },
    "kernelspec": {
      "name": "python3",
      "display_name": "Python 3"
    },
    "language_info": {
      "name": "python"
    }
  },
  "cells": [
    {
      "cell_type": "markdown",
      "metadata": {
        "id": "view-in-github",
        "colab_type": "text"
      },
      "source": [
        "<a href=\"https://colab.research.google.com/github/aliemadabdo/test-repo/blob/main/lab3.ipynb\" target=\"_parent\"><img src=\"https://colab.research.google.com/assets/colab-badge.svg\" alt=\"Open In Colab\"/></a>"
      ]
    },
    {
      "cell_type": "code",
      "source": [
        "#Import the required modules, numpy for calculation, and Matplotlib for drawing\n",
        "import numpy as np \n",
        "import matplotlib.pyplot as plt \n",
        "import csv"
      ],
      "metadata": {
        "id": "hSUq4DR3FMKC"
      },
      "execution_count": 1,
      "outputs": []
    },
    {
      "cell_type": "code",
      "execution_count": 2,
      "metadata": {
        "colab": {
          "base_uri": "https://localhost:8080/",
          "height": 387
        },
        "id": "7cK6AuWfoNra",
        "outputId": "442e7e15-7d0f-4c82-fe60-6a9766ff7694"
      },
      "outputs": [
        {
          "output_type": "stream",
          "name": "stdout",
          "text": [
            "[ 1.1  1.3  1.5  2.   2.2  2.9  3.   3.2  3.2  3.7  3.9  4.   4.   4.1\n",
            "  4.5  4.9  5.1  5.3  5.9  6.   6.8  7.1  7.9  8.2  8.7  9.   9.5  9.6\n",
            " 10.3 10.5]\n",
            "30\n",
            "<class 'csv.DictReader'>\n",
            "<class 'dict'>\n"
          ]
        },
        {
          "output_type": "execute_result",
          "data": {
            "text/plain": [
              "<matplotlib.collections.PathCollection at 0x7faddf892670>"
            ]
          },
          "metadata": {},
          "execution_count": 2
        },
        {
          "output_type": "display_data",
          "data": {
            "text/plain": [
              "<Figure size 432x288 with 1 Axes>"
            ],
            "image/png": "[encoded data removed]"
          },
          "metadata": {
            "needs_background": "light"
          }
        }
      ],
      "source": [
        "y, x=[], []\n",
        "with open('Salary.csv', newline='') as csvfile:\n",
        "    reader = csv.DictReader(csvfile, delimiter=\",\") #list of dics\n",
        "    for row in reader:\n",
        "      x += [float(row['YearsExperience'])]\n",
        "      y += [int(float(row['Salary']))]\n",
        "\n",
        "x=np.array(x)\n",
        "y=np.array(y)\n",
        "#Show the effect of a scatter plot\n",
        "print(x)\n",
        "print(y.size)\n",
        "print(type(reader)) \n",
        "print(type(row)) \n",
        "\n",
        "plt.scatter(x,y)\n",
        " \n"
      ]
    },
    {
      "cell_type": "code",
      "source": [
        "#The basic linear regression model is wx+ b, and since this is a two-dimensional space, the model is ax+ b\n",
        "def model(a, b, x): \n",
        "  return a*x + b\n",
        "#The most commonly used loss function of linear regression model is the loss function of mean variance difference \n",
        "def loss_function(a, b, x, y): \n",
        "  num = len(x) \n",
        "  prediction=model(a,b,x) \n",
        "  return (0.5/num) * (np.square(prediction-y)).sum()\n",
        "#The optimization function mainly USES partial derivatives to update two parameters a and b \n",
        "def optimize(a,b,x,y): \n",
        "  num = len(x) \n",
        "  prediction = model(a,b,x) \n",
        "  #Update the values of A and B by finding the partial derivatives of the loss function on a and b \n",
        "  da = (1.0/num) * ((prediction -y)*x).sum() \n",
        "  db = (1.0/num) * ((prediction -y).sum())\n",
        "  a = a -Lr*da \n",
        "  b = b -Lr*db \n",
        "  return a, b\n",
        "#iterated function, return a and b \n",
        "def iterate(a,b,x,y,times): \n",
        "  for i in range(times): \n",
        "    a,b = optimize(a,b,x,y) \n",
        "    return a, b \n"
      ],
      "metadata": {
        "id": "atYr4bwRpwEA"
      },
      "execution_count": 3,
      "outputs": []
    },
    {
      "cell_type": "code",
      "source": [
        "#Initialize parameters and display \n",
        "a = np.random.rand(1)\n",
        "print(a) \n",
        "b = np.random.rand(1) \n",
        "print(b) \n",
        "Lr = 0.03\n",
        "#For the first iteration, the parameter values, losses, and visualization after the iteration are displayed \n",
        "a,b = iterate(a,b,x,y,1) \n",
        "prediction=model(a,b,x) \n",
        "loss = loss_function(a, b, x, y) \n",
        "print(a,b,loss)\n",
        "print(f\"y =\\n {y}\\n\\n x =\\n {x}\\n\\n prediction =\\n {prediction}\") \n",
        "plt.scatter(x,y) \n",
        "plt.plot(x,prediction)"
      ],
      "metadata": {
        "colab": {
          "base_uri": "https://localhost:8080/",
          "height": 664
        },
        "id": "gPr_ja_5vSy_",
        "outputId": "b1869dfc-75d1-483b-b9e9-c6442c352376"
      },
      "execution_count": 15,
      "outputs": [
        {
          "output_type": "stream",
          "name": "stdout",
          "text": [
            "[0.14093607]\n",
            "[0.99336664]\n",
            "[14321.791312] [2281.03110043] 110843793.62214911\n",
            "y =\n",
            " [ 39343  46205  37731  43525  39891  56642  60150  54445  64445  57189\n",
            "  63218  55794  56957  57081  61111  67938  66029  83088  81363  93940\n",
            "  91738  98273 101302 113812 109431 105582 116969 112635 122391 121872]\n",
            "\n",
            " x =\n",
            " [ 1.1  1.3  1.5  2.   2.2  2.9  3.   3.2  3.2  3.7  3.9  4.   4.   4.1\n",
            "  4.5  4.9  5.1  5.3  5.9  6.   6.8  7.1  7.9  8.2  8.7  9.   9.5  9.6\n",
            " 10.3 10.5]\n",
            "\n",
            " prediction =\n",
            " [ 18035.00154363  20899.35980603  23763.71806843  30924.61372444\n",
            "  33788.97198684  43814.22590524  45246.40503644  48110.76329884\n",
            "  48110.76329884  55271.65895484  58136.01721725  59568.19634845\n",
            "  59568.19634845  61000.37547965  66729.09200445  72457.80852925\n",
            "  75322.16679165  78186.52505405  86779.59984125  88211.77897245\n",
            "  99669.21202206 103965.74941566 115423.18246526 119719.71985886\n",
            " 126880.61551487 131177.15290847 138338.04856447 139770.22769567\n",
            " 149795.48161407 152659.83987648]\n"
          ]
        },
        {
          "output_type": "execute_result",
          "data": {
            "text/plain": [
              "[<matplotlib.lines.Line2D at 0x7faddefc8be0>]"
            ]
          },
          "metadata": {},
          "execution_count": 15
        },
        {
          "output_type": "display_data",
          "data": {
            "text/plain": [
              "<Figure size 432x288 with 1 Axes>"
            ],
            "image/png": "[encoded data removed]"
          },
          "metadata": {
            "needs_background": "light"
          }
        }
      ]
    },
    {
      "cell_type": "code",
      "source": [
        "#For the first iteration, the parameter values, losses, and visualization after the iteration are displayed \n",
        "a,b = iterate(a,b,x,y,100000) \n",
        "prediction=model(a,b,x) \n",
        "loss = loss_function(a, b, x, y) \n",
        "print(a,b,loss) \n",
        "plt.scatter(x,y) \n",
        "plt.plot(x,prediction)"
      ],
      "metadata": {
        "colab": {
          "base_uri": "https://localhost:8080/",
          "height": 300
        },
        "id": "QOqCPTT6vnUc",
        "outputId": "d65257ea-4d56-40c0-e9e0-23b1d68bab01"
      },
      "execution_count": 18,
      "outputs": [
        {
          "output_type": "stream",
          "name": "stdout",
          "text": [
            "[12900.62623916] [2528.56282041] 74132778.12478383\n"
          ]
        },
        {
          "output_type": "execute_result",
          "data": {
            "text/plain": [
              "[<matplotlib.lines.Line2D at 0x7faddeed1b80>]"
            ]
          },
          "metadata": {},
          "execution_count": 18
        },
        {
          "output_type": "display_data",
          "data": {
            "text/plain": [
              "<Figure size 432x288 with 1 Axes>"
            ],
            "image/png": "[encoded data removed]"
          },
          "metadata": {
            "needs_background": "light"
          }
        }
      ]
    },
    {
      "cell_type": "code",
      "source": [],
      "metadata": {
        "id": "CnLTiULVadLc"
      },
      "execution_count": 5,
      "outputs": []
    }
  ]
}