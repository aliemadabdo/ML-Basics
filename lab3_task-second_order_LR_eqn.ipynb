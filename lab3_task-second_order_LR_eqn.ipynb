{
  "nbformat": 4,
  "nbformat_minor": 0,
  "metadata": {
    "colab": {
      "provenance": [],
      "authorship_tag": "ABX9TyNmmk5cZ4iAjWZpnyh9cXYc",
      "include_colab_link": true
    },
    "kernelspec": {
      "name": "python3",
      "display_name": "Python 3"
    },
    "language_info": {
      "name": "python"
    }
  },
  "cells": [
    {
      "cell_type": "markdown",
      "metadata": {
        "id": "view-in-github",
        "colab_type": "text"
      },
      "source": [
        "<a href=\"https://colab.research.google.com/github/aliemadabdo/ML-Basics/blob/main/lab3_task-second_order_LR_eqn.ipynb\" target=\"_parent\"><img src=\"https://colab.research.google.com/assets/colab-badge.svg\" alt=\"Open In Colab\"/></a>"
      ]
    },
    {
      "cell_type": "code",
      "execution_count": 1,
      "metadata": {
        "id": "0Ee9fntHfOWd"
      },
      "outputs": [],
      "source": [
        "#Import the required modules, numpy for calculation, and Matplotlib for drawing\n",
        "import numpy as np \n",
        "import matplotlib.pyplot as plt \n",
        "import csv"
      ]
    },
    {
      "cell_type": "code",
      "source": [
        "y, x=[], []\n",
        "with open('Salary.csv', newline='') as csvfile:\n",
        "    reader = csv.DictReader(csvfile, delimiter=\",\") #list of dics\n",
        "    for row in reader:\n",
        "      x += [float(row['x'])]\n",
        "      y += [int(float(row['y']))]\n",
        "\n",
        "x=np.array(x)\n",
        "y=np.array(y)\n",
        "#Show the effect of a scatter plot\n",
        "print(x)\n",
        "print(y.size)\n",
        "print(type(reader)) \n",
        "print(type(row)) \n",
        "\n",
        "plt.scatter(x,y)\n",
        " \n"
      ],
      "metadata": {
        "id": "SHT3N_5If-cA",
        "colab": {
          "base_uri": "https://localhost:8080/",
          "height": 387
        },
        "outputId": "42010139-c805-484c-ff6a-897910669741"
      },
      "execution_count": 2,
      "outputs": [
        {
          "output_type": "stream",
          "name": "stdout",
          "text": [
            "[ 1.1  1.3  1.5  2.   2.2  2.9  3.   3.2  3.2  3.7  3.9  4.   4.   4.1\n",
            "  4.5  4.9  5.1  5.3  5.9  6.   6.8  7.1  7.9  8.2  8.7  9.   9.5  9.6\n",
            " 10.3 10.5]\n",
            "30\n",
            "<class 'csv.DictReader'>\n",
            "<class 'dict'>\n"
          ]
        },
        {
          "output_type": "execute_result",
          "data": {
            "text/plain": [
              "<matplotlib.collections.PathCollection at 0x7efdbec576d0>"
            ]
          },
          "metadata": {},
          "execution_count": 2
        },
        {
          "output_type": "display_data",
          "data": {
            "text/plain": [
              "<Figure size 432x288 with 1 Axes>"
            ],
            "image/png": "[encoded data removed]"
          },
          "metadata": {
            "needs_background": "light"
          }
        }
      ]
    },
    {
      "cell_type": "code",
      "source": [
        "#The basic linear regression model is wx+ b, and since this is a two-dimensional space, the model is ax+ b\n",
        "def model(a, b, c, x): \n",
        "  return a*x + b*x**2 +c\n",
        "#The most commonly used loss function of linear regression model is the loss function of mean variance difference \n",
        "def loss_function(a, b,c, x, y): \n",
        "  num = len(x) \n",
        "  #print(f\"befor model fn {a}\") \n",
        "  prediction=model(a,b,c,x) \n",
        "  #print(f\"after model fn {a}\") \n",
        "  return (0.5/num) * (np.square(prediction-y)).sum()\n",
        "#The optimization function mainly USES partial derivatives to update two parameters a and b \n",
        "def optimize(a,b,c,x,y): \n",
        "  num = len(x) \n",
        "  prediction = model(a,b,c,x) \n",
        "  #Update the values of A and B by finding the partial derivatives of the loss function on a and b \n",
        "  da = (1.0/num) * ((prediction -y)*x).sum() \n",
        "  db = (1.0/num) * (((prediction -y)*x**2).sum())\n",
        "  dc = (1.0/num) * ((prediction -y).sum())\n",
        "  # print(f\"befor equation fn {a}\") \n",
        "  a = a -Lr*da \n",
        "  #print(f\"after equation fn {a}\") \n",
        "  b = b -Lr*db \n",
        "  c = c -Lr*dc \n",
        "  return a, b,c\n",
        "#iterated function, return a and b \n",
        "def iterate(a,b,c,x,y,times): \n",
        "  for i in range(0,times):\n",
        "    #print(f\"befor optmize fn {a}\") \n",
        "    a,b,c = optimize(a,b,c,x,y)\n",
        "   # print(f\"after optmize fn {a}\") \n",
        "  #  print(a) \n",
        "  return a, b, c \n",
        "\n",
        "#Initialize parameters and display \n",
        "a = np.random.rand(1)\n",
        "#print(a) \n",
        "b = np.random.rand(1) \n",
        "#print(b)\n",
        "c = np.random.rand(1) \n",
        "Lr = 0.0001\n",
        "#For the first iteration, the parameter values, losses, and visualization after the iteration are displayed \n",
        "for itr in range(1,3):\n",
        "  # print(itr)\n",
        "  a,b,c = iterate(a,b,c,x,y,100000) \n",
        "  prediction=model(a,b,c,x) \n",
        "  loss = loss_function(a, b,c, x, y) \n",
        "  #print(a,b,loss)\n",
        "  #print(f\"y =\\n {y}\\n\\n x =\\n {x}\\n\\n prediction =\\n {prediction}\") \n",
        "  plt.scatter(x,y) \n",
        "  plt.plot(x,prediction)\n",
        " # print(f\"after each plot {a}\") \n",
        "# print(a)\n"
      ],
      "metadata": {
        "colab": {
          "base_uri": "https://localhost:8080/",
          "height": 265
        },
        "id": "EvjAjC2Q68cn",
        "outputId": "868e3320-9560-454c-81ef-29457bc514c2"
      },
      "execution_count": 24,
      "outputs": [
        {
          "output_type": "display_data",
          "data": {
            "text/plain": [
              "<Figure size 432x288 with 1 Axes>"
            ],
            "image/png": "[encoded data removed]"
          },
          "metadata": {
            "needs_background": "light"
          }
        }
      ]
    },
    {
      "cell_type": "code",
      "source": [],
      "metadata": {
        "id": "0yza-w867Dzm"
      },
      "execution_count": null,
      "outputs": []
    }
  ]
}